{
 "cells": [
  {
   "cell_type": "code",
   "execution_count": 37,
   "id": "676dc6ff",
   "metadata": {},
   "outputs": [],
   "source": [
    "# Standard imports\n",
    "import numpy as np\n",
    "import pandas as pd\n",
    "\n",
    "# To interact with the operating system\n",
    "import os\n",
    "\n",
    "# For statistical modeling\n",
    "import scipy.stats as stats\n",
    "\n",
    "# To acquire MYSQL Data\n",
    "import acquire\n",
    "from env import username, password, host\n",
    "import wrangle\n",
    "\n",
    "# For data visualization\n",
    "import seaborn as sns\n",
    "import matplotlib.pyplot as plt\n",
    "\n",
    "import warnings\n",
    "warnings.filterwarnings('ignore')\n",
    "\n",
    "# \n",
    "#import evaluate\n",
    "\n",
    "# For running modeling\n",
    "import sklearn.metrics as mtc\n",
    "from sklearn.preprocessing import MinMaxScaler, StandardScaler, RobustScaler, QuantileTransformer\n",
    "from sklearn.feature_selection import SelectKBest, RFE, f_regression, SequentialFeatureSelector\n",
    "from sklearn.linear_model import LinearRegression"
   ]
  },
  {
   "cell_type": "markdown",
   "id": "3d4eb5bd",
   "metadata": {},
   "source": [
    "#### 1. Load the tips dataset.\n",
    "    a. Create a column named price_per_person. This should be the total bill divided by the party size.\n",
    "    b. Before using any of the methods discussed in the lesson, which features do you think would be most important for predicting the tip amount?\n",
    "    c. Use select k best to select the top 2 features for predicting tip amount. What are they?\n",
    "    d. Use recursive feature elimination to select the top 2 features for tip amount. What are they?\n",
    "    e. Why do you think select k best and recursive feature elimination might give different answers for the top features? Does this change as you change the number of features you are selecting?\n",
    "#### 2. Write a function named select_kbest that takes in the predictors (X), the target (y), and the number of features to select (k) and returns the names of the top k selected features based on the SelectKBest class. Test your function with the tips dataset. You should see the same results as when you did the process manually.\n",
    "\n",
    "#### 3. Write a function named rfe that takes in the predictors, the target, and the number of features to select. It should return the top k features based on the RFE class. Test your function with the tips dataset. You should see the same results as when you did the process manually.\n",
    "\n",
    "#### 4. Load the swiss dataset and use all the other features to predict Fertility. Find the top 3 features using both select k best and recursive feature elimination (use the functions you just built to help you out)."
   ]
  },
  {
   "cell_type": "code",
   "execution_count": 5,
   "id": "89e434f8",
   "metadata": {},
   "outputs": [
    {
     "data": {
      "text/html": [
       "<div>\n",
       "<style scoped>\n",
       "    .dataframe tbody tr th:only-of-type {\n",
       "        vertical-align: middle;\n",
       "    }\n",
       "\n",
       "    .dataframe tbody tr th {\n",
       "        vertical-align: top;\n",
       "    }\n",
       "\n",
       "    .dataframe thead th {\n",
       "        text-align: right;\n",
       "    }\n",
       "</style>\n",
       "<table border=\"1\" class=\"dataframe\">\n",
       "  <thead>\n",
       "    <tr style=\"text-align: right;\">\n",
       "      <th></th>\n",
       "      <th>total_bill</th>\n",
       "      <th>tip</th>\n",
       "      <th>sex</th>\n",
       "      <th>smoker</th>\n",
       "      <th>day</th>\n",
       "      <th>time</th>\n",
       "      <th>size</th>\n",
       "    </tr>\n",
       "  </thead>\n",
       "  <tbody>\n",
       "    <tr>\n",
       "      <th>0</th>\n",
       "      <td>16.99</td>\n",
       "      <td>1.01</td>\n",
       "      <td>Female</td>\n",
       "      <td>No</td>\n",
       "      <td>Sun</td>\n",
       "      <td>Dinner</td>\n",
       "      <td>2</td>\n",
       "    </tr>\n",
       "    <tr>\n",
       "      <th>1</th>\n",
       "      <td>10.34</td>\n",
       "      <td>1.66</td>\n",
       "      <td>Male</td>\n",
       "      <td>No</td>\n",
       "      <td>Sun</td>\n",
       "      <td>Dinner</td>\n",
       "      <td>3</td>\n",
       "    </tr>\n",
       "    <tr>\n",
       "      <th>2</th>\n",
       "      <td>21.01</td>\n",
       "      <td>3.50</td>\n",
       "      <td>Male</td>\n",
       "      <td>No</td>\n",
       "      <td>Sun</td>\n",
       "      <td>Dinner</td>\n",
       "      <td>3</td>\n",
       "    </tr>\n",
       "  </tbody>\n",
       "</table>\n",
       "</div>"
      ],
      "text/plain": [
       "   total_bill   tip     sex smoker  day    time  size\n",
       "0       16.99  1.01  Female     No  Sun  Dinner     2\n",
       "1       10.34  1.66    Male     No  Sun  Dinner     3\n",
       "2       21.01  3.50    Male     No  Sun  Dinner     3"
      ]
     },
     "execution_count": 5,
     "metadata": {},
     "output_type": "execute_result"
    }
   ],
   "source": [
    "tips = pd.read_csv('tips.csv')\n",
    "tips.head(3)"
   ]
  },
  {
   "cell_type": "markdown",
   "id": "22814516",
   "metadata": {},
   "source": [
    "    a. Create a column named price_per_person. This should be the total bill divided by the party size."
   ]
  },
  {
   "cell_type": "code",
   "execution_count": 12,
   "id": "6f9e0133",
   "metadata": {},
   "outputs": [],
   "source": [
    "tips['ppp'] = tips.total_bill / tips['size']"
   ]
  },
  {
   "cell_type": "code",
   "execution_count": 194,
   "id": "29790090",
   "metadata": {},
   "outputs": [
    {
     "data": {
      "text/html": [
       "<div>\n",
       "<style scoped>\n",
       "    .dataframe tbody tr th:only-of-type {\n",
       "        vertical-align: middle;\n",
       "    }\n",
       "\n",
       "    .dataframe tbody tr th {\n",
       "        vertical-align: top;\n",
       "    }\n",
       "\n",
       "    .dataframe thead th {\n",
       "        text-align: right;\n",
       "    }\n",
       "</style>\n",
       "<table border=\"1\" class=\"dataframe\">\n",
       "  <thead>\n",
       "    <tr style=\"text-align: right;\">\n",
       "      <th></th>\n",
       "      <th>total_bill</th>\n",
       "      <th>tip</th>\n",
       "      <th>sex</th>\n",
       "      <th>smoker</th>\n",
       "      <th>day</th>\n",
       "      <th>time</th>\n",
       "      <th>size</th>\n",
       "      <th>ppp</th>\n",
       "    </tr>\n",
       "  </thead>\n",
       "  <tbody>\n",
       "    <tr>\n",
       "      <th>0</th>\n",
       "      <td>16.99</td>\n",
       "      <td>1.01</td>\n",
       "      <td>Female</td>\n",
       "      <td>No</td>\n",
       "      <td>Sun</td>\n",
       "      <td>Dinner</td>\n",
       "      <td>2</td>\n",
       "      <td>8.495000</td>\n",
       "    </tr>\n",
       "    <tr>\n",
       "      <th>1</th>\n",
       "      <td>10.34</td>\n",
       "      <td>1.66</td>\n",
       "      <td>Male</td>\n",
       "      <td>No</td>\n",
       "      <td>Sun</td>\n",
       "      <td>Dinner</td>\n",
       "      <td>3</td>\n",
       "      <td>3.446667</td>\n",
       "    </tr>\n",
       "    <tr>\n",
       "      <th>2</th>\n",
       "      <td>21.01</td>\n",
       "      <td>3.50</td>\n",
       "      <td>Male</td>\n",
       "      <td>No</td>\n",
       "      <td>Sun</td>\n",
       "      <td>Dinner</td>\n",
       "      <td>3</td>\n",
       "      <td>7.003333</td>\n",
       "    </tr>\n",
       "  </tbody>\n",
       "</table>\n",
       "</div>"
      ],
      "text/plain": [
       "   total_bill   tip     sex smoker  day    time  size       ppp\n",
       "0       16.99  1.01  Female     No  Sun  Dinner     2  8.495000\n",
       "1       10.34  1.66    Male     No  Sun  Dinner     3  3.446667\n",
       "2       21.01  3.50    Male     No  Sun  Dinner     3  7.003333"
      ]
     },
     "execution_count": 194,
     "metadata": {},
     "output_type": "execute_result"
    }
   ],
   "source": [
    "tips.head(3)"
   ]
  },
  {
   "cell_type": "markdown",
   "id": "db50cb2d",
   "metadata": {},
   "source": [
    "    b. Before using any of the methods discussed in the lesson, which features do you think would be most important for predicting the tip amount?"
   ]
  },
  {
   "cell_type": "markdown",
   "id": "1987a440",
   "metadata": {},
   "source": [
    "**total bill and time**"
   ]
  },
  {
   "cell_type": "markdown",
   "id": "9e2a32a9",
   "metadata": {},
   "source": [
    "    c. Use select k best to select the top 2 features for predicting tip amount. What are they?"
   ]
  },
  {
   "cell_type": "code",
   "execution_count": 195,
   "id": "66df8f01",
   "metadata": {
    "scrolled": true
   },
   "outputs": [
    {
     "name": "stdout",
     "output_type": "stream",
     "text": [
      "df shape: (244, 8)\n",
      "Train shape: (146, 8)\n",
      "Validate shape: (49, 8)\n",
      "Test shape: (49, 8)\n"
     ]
    }
   ],
   "source": [
    "train, validate, test = wrangle.split(tips)"
   ]
  },
  {
   "cell_type": "code",
   "execution_count": 196,
   "id": "ac864e41",
   "metadata": {
    "scrolled": true
   },
   "outputs": [
    {
     "data": {
      "text/html": [
       "<div>\n",
       "<style scoped>\n",
       "    .dataframe tbody tr th:only-of-type {\n",
       "        vertical-align: middle;\n",
       "    }\n",
       "\n",
       "    .dataframe tbody tr th {\n",
       "        vertical-align: top;\n",
       "    }\n",
       "\n",
       "    .dataframe thead th {\n",
       "        text-align: right;\n",
       "    }\n",
       "</style>\n",
       "<table border=\"1\" class=\"dataframe\">\n",
       "  <thead>\n",
       "    <tr style=\"text-align: right;\">\n",
       "      <th></th>\n",
       "      <th>total_bill</th>\n",
       "      <th>tip</th>\n",
       "      <th>sex</th>\n",
       "      <th>smoker</th>\n",
       "      <th>day</th>\n",
       "      <th>time</th>\n",
       "      <th>size</th>\n",
       "      <th>ppp</th>\n",
       "    </tr>\n",
       "  </thead>\n",
       "  <tbody>\n",
       "    <tr>\n",
       "      <th>20</th>\n",
       "      <td>17.92</td>\n",
       "      <td>4.08</td>\n",
       "      <td>Male</td>\n",
       "      <td>No</td>\n",
       "      <td>Sat</td>\n",
       "      <td>Dinner</td>\n",
       "      <td>2</td>\n",
       "      <td>8.9600</td>\n",
       "    </tr>\n",
       "    <tr>\n",
       "      <th>67</th>\n",
       "      <td>3.07</td>\n",
       "      <td>1.00</td>\n",
       "      <td>Female</td>\n",
       "      <td>Yes</td>\n",
       "      <td>Sat</td>\n",
       "      <td>Dinner</td>\n",
       "      <td>1</td>\n",
       "      <td>3.0700</td>\n",
       "    </tr>\n",
       "    <tr>\n",
       "      <th>63</th>\n",
       "      <td>18.29</td>\n",
       "      <td>3.76</td>\n",
       "      <td>Male</td>\n",
       "      <td>Yes</td>\n",
       "      <td>Sat</td>\n",
       "      <td>Dinner</td>\n",
       "      <td>4</td>\n",
       "      <td>4.5725</td>\n",
       "    </tr>\n",
       "  </tbody>\n",
       "</table>\n",
       "</div>"
      ],
      "text/plain": [
       "    total_bill   tip     sex smoker  day    time  size     ppp\n",
       "20       17.92  4.08    Male     No  Sat  Dinner     2  8.9600\n",
       "67        3.07  1.00  Female    Yes  Sat  Dinner     1  3.0700\n",
       "63       18.29  3.76    Male    Yes  Sat  Dinner     4  4.5725"
      ]
     },
     "execution_count": 196,
     "metadata": {},
     "output_type": "execute_result"
    }
   ],
   "source": [
    "train.head(3)"
   ]
  },
  {
   "cell_type": "code",
   "execution_count": 216,
   "id": "5bf9077e",
   "metadata": {},
   "outputs": [],
   "source": [
    "t = pd.get_dummies(data = tips, columns={'sex', 'smoker', 'day', 'time'})"
   ]
  },
  {
   "cell_type": "code",
   "execution_count": 217,
   "id": "c1f57fe3",
   "metadata": {
    "scrolled": true
   },
   "outputs": [
    {
     "data": {
      "text/html": [
       "<div>\n",
       "<style scoped>\n",
       "    .dataframe tbody tr th:only-of-type {\n",
       "        vertical-align: middle;\n",
       "    }\n",
       "\n",
       "    .dataframe tbody tr th {\n",
       "        vertical-align: top;\n",
       "    }\n",
       "\n",
       "    .dataframe thead th {\n",
       "        text-align: right;\n",
       "    }\n",
       "</style>\n",
       "<table border=\"1\" class=\"dataframe\">\n",
       "  <thead>\n",
       "    <tr style=\"text-align: right;\">\n",
       "      <th></th>\n",
       "      <th>total_bill</th>\n",
       "      <th>tip</th>\n",
       "      <th>size</th>\n",
       "      <th>ppp</th>\n",
       "      <th>day_Fri</th>\n",
       "      <th>day_Sat</th>\n",
       "      <th>day_Sun</th>\n",
       "      <th>day_Thur</th>\n",
       "      <th>time_Dinner</th>\n",
       "      <th>time_Lunch</th>\n",
       "      <th>smoker_No</th>\n",
       "      <th>smoker_Yes</th>\n",
       "      <th>sex_Female</th>\n",
       "      <th>sex_Male</th>\n",
       "    </tr>\n",
       "  </thead>\n",
       "  <tbody>\n",
       "    <tr>\n",
       "      <th>0</th>\n",
       "      <td>16.99</td>\n",
       "      <td>1.01</td>\n",
       "      <td>2</td>\n",
       "      <td>8.495000</td>\n",
       "      <td>0</td>\n",
       "      <td>0</td>\n",
       "      <td>1</td>\n",
       "      <td>0</td>\n",
       "      <td>1</td>\n",
       "      <td>0</td>\n",
       "      <td>1</td>\n",
       "      <td>0</td>\n",
       "      <td>1</td>\n",
       "      <td>0</td>\n",
       "    </tr>\n",
       "    <tr>\n",
       "      <th>1</th>\n",
       "      <td>10.34</td>\n",
       "      <td>1.66</td>\n",
       "      <td>3</td>\n",
       "      <td>3.446667</td>\n",
       "      <td>0</td>\n",
       "      <td>0</td>\n",
       "      <td>1</td>\n",
       "      <td>0</td>\n",
       "      <td>1</td>\n",
       "      <td>0</td>\n",
       "      <td>1</td>\n",
       "      <td>0</td>\n",
       "      <td>0</td>\n",
       "      <td>1</td>\n",
       "    </tr>\n",
       "    <tr>\n",
       "      <th>2</th>\n",
       "      <td>21.01</td>\n",
       "      <td>3.50</td>\n",
       "      <td>3</td>\n",
       "      <td>7.003333</td>\n",
       "      <td>0</td>\n",
       "      <td>0</td>\n",
       "      <td>1</td>\n",
       "      <td>0</td>\n",
       "      <td>1</td>\n",
       "      <td>0</td>\n",
       "      <td>1</td>\n",
       "      <td>0</td>\n",
       "      <td>0</td>\n",
       "      <td>1</td>\n",
       "    </tr>\n",
       "  </tbody>\n",
       "</table>\n",
       "</div>"
      ],
      "text/plain": [
       "   total_bill   tip  size       ppp  day_Fri  day_Sat  day_Sun  day_Thur  \\\n",
       "0       16.99  1.01     2  8.495000        0        0        1         0   \n",
       "1       10.34  1.66     3  3.446667        0        0        1         0   \n",
       "2       21.01  3.50     3  7.003333        0        0        1         0   \n",
       "\n",
       "   time_Dinner  time_Lunch  smoker_No  smoker_Yes  sex_Female  sex_Male  \n",
       "0            1           0          1           0           1         0  \n",
       "1            1           0          1           0           0         1  \n",
       "2            1           0          1           0           0         1  "
      ]
     },
     "execution_count": 217,
     "metadata": {},
     "output_type": "execute_result"
    }
   ],
   "source": [
    "t.head(3)"
   ]
  },
  {
   "cell_type": "code",
   "execution_count": 218,
   "id": "04794db8",
   "metadata": {},
   "outputs": [],
   "source": [
    "train = t[['total_bill','tip','ppp','smoker_No','smoker_Yes', 'time_Dinner', 'sex_Female', 'size']]"
   ]
  },
  {
   "cell_type": "code",
   "execution_count": 219,
   "id": "6f3f6061",
   "metadata": {},
   "outputs": [],
   "source": [
    "X_train, y_train = train[['total_bill','ppp','smoker_No','smoker_Yes', 'time_Dinner', 'sex_Female', 'size']], train.tip\n",
    "X_validate, y_validate = validate[['total_bill', 'ppp', 'size']], validate.tip\n",
    "X_test, y_test = test[['total_bill', 'ppp', 'size']], test.tip"
   ]
  },
  {
   "cell_type": "code",
   "execution_count": 220,
   "id": "b73c0221",
   "metadata": {},
   "outputs": [],
   "source": [
    "# Make the model\n",
    "kbest = SelectKBest(f_regression, k = 2)\n",
    "# fit model\n",
    "_ = kbest.fit(X_train, y_train)"
   ]
  },
  {
   "cell_type": "code",
   "execution_count": 221,
   "id": "547602e2",
   "metadata": {},
   "outputs": [],
   "source": [
    "kbest_results = pd.DataFrame(\n",
    "    dict(p=kbest.pvalues_, f=kbest.scores_),\n",
    "                             index = X_train.columns)"
   ]
  },
  {
   "cell_type": "code",
   "execution_count": 222,
   "id": "c8dbfb0c",
   "metadata": {},
   "outputs": [
    {
     "data": {
      "text/html": [
       "<div>\n",
       "<style scoped>\n",
       "    .dataframe tbody tr th:only-of-type {\n",
       "        vertical-align: middle;\n",
       "    }\n",
       "\n",
       "    .dataframe tbody tr th {\n",
       "        vertical-align: top;\n",
       "    }\n",
       "\n",
       "    .dataframe thead th {\n",
       "        text-align: right;\n",
       "    }\n",
       "</style>\n",
       "<table border=\"1\" class=\"dataframe\">\n",
       "  <thead>\n",
       "    <tr style=\"text-align: right;\">\n",
       "      <th></th>\n",
       "      <th>p</th>\n",
       "      <th>f</th>\n",
       "    </tr>\n",
       "  </thead>\n",
       "  <tbody>\n",
       "    <tr>\n",
       "      <th>total_bill</th>\n",
       "      <td>6.692471e-34</td>\n",
       "      <td>203.357723</td>\n",
       "    </tr>\n",
       "    <tr>\n",
       "      <th>ppp</th>\n",
       "      <td>2.502102e-08</td>\n",
       "      <td>33.213257</td>\n",
       "    </tr>\n",
       "    <tr>\n",
       "      <th>smoker_No</th>\n",
       "      <td>9.265932e-01</td>\n",
       "      <td>0.008506</td>\n",
       "    </tr>\n",
       "    <tr>\n",
       "      <th>smoker_Yes</th>\n",
       "      <td>9.265932e-01</td>\n",
       "      <td>0.008506</td>\n",
       "    </tr>\n",
       "    <tr>\n",
       "      <th>time_Dinner</th>\n",
       "      <td>5.780153e-02</td>\n",
       "      <td>3.633815</td>\n",
       "    </tr>\n",
       "    <tr>\n",
       "      <th>sex_Female</th>\n",
       "      <td>1.664562e-01</td>\n",
       "      <td>1.926155</td>\n",
       "    </tr>\n",
       "    <tr>\n",
       "      <th>size</th>\n",
       "      <td>4.300543e-16</td>\n",
       "      <td>76.175426</td>\n",
       "    </tr>\n",
       "  </tbody>\n",
       "</table>\n",
       "</div>"
      ],
      "text/plain": [
       "                        p           f\n",
       "total_bill   6.692471e-34  203.357723\n",
       "ppp          2.502102e-08   33.213257\n",
       "smoker_No    9.265932e-01    0.008506\n",
       "smoker_Yes   9.265932e-01    0.008506\n",
       "time_Dinner  5.780153e-02    3.633815\n",
       "sex_Female   1.664562e-01    1.926155\n",
       "size         4.300543e-16   76.175426"
      ]
     },
     "execution_count": 222,
     "metadata": {},
     "output_type": "execute_result"
    }
   ],
   "source": [
    "kbest_results"
   ]
  },
  {
   "cell_type": "code",
   "execution_count": 223,
   "id": "0570daff",
   "metadata": {},
   "outputs": [
    {
     "data": {
      "text/plain": [
       "array([[16.99,  2.  ],\n",
       "       [10.34,  3.  ],\n",
       "       [21.01,  3.  ],\n",
       "       [23.68,  2.  ],\n",
       "       [24.59,  4.  ]])"
      ]
     },
     "execution_count": 223,
     "metadata": {},
     "output_type": "execute_result"
    }
   ],
   "source": [
    "kbest.transform(X_train)[:5]"
   ]
  },
  {
   "cell_type": "code",
   "execution_count": 224,
   "id": "d3dd9315",
   "metadata": {},
   "outputs": [],
   "source": [
    "X_train_transformed = pd.DataFrame(\n",
    "    kbest.transform(X_train),\n",
    "    columns=X_train.columns[kbest.get_support()],\n",
    "    index=X_train.index\n",
    ")"
   ]
  },
  {
   "cell_type": "code",
   "execution_count": 225,
   "id": "c71e0229",
   "metadata": {},
   "outputs": [
    {
     "data": {
      "text/html": [
       "<div>\n",
       "<style scoped>\n",
       "    .dataframe tbody tr th:only-of-type {\n",
       "        vertical-align: middle;\n",
       "    }\n",
       "\n",
       "    .dataframe tbody tr th {\n",
       "        vertical-align: top;\n",
       "    }\n",
       "\n",
       "    .dataframe thead th {\n",
       "        text-align: right;\n",
       "    }\n",
       "</style>\n",
       "<table border=\"1\" class=\"dataframe\">\n",
       "  <thead>\n",
       "    <tr style=\"text-align: right;\">\n",
       "      <th></th>\n",
       "      <th>total_bill</th>\n",
       "      <th>size</th>\n",
       "    </tr>\n",
       "  </thead>\n",
       "  <tbody>\n",
       "    <tr>\n",
       "      <th>0</th>\n",
       "      <td>16.99</td>\n",
       "      <td>2.0</td>\n",
       "    </tr>\n",
       "    <tr>\n",
       "      <th>1</th>\n",
       "      <td>10.34</td>\n",
       "      <td>3.0</td>\n",
       "    </tr>\n",
       "    <tr>\n",
       "      <th>2</th>\n",
       "      <td>21.01</td>\n",
       "      <td>3.0</td>\n",
       "    </tr>\n",
       "  </tbody>\n",
       "</table>\n",
       "</div>"
      ],
      "text/plain": [
       "   total_bill  size\n",
       "0       16.99   2.0\n",
       "1       10.34   3.0\n",
       "2       21.01   3.0"
      ]
     },
     "execution_count": 225,
     "metadata": {},
     "output_type": "execute_result"
    }
   ],
   "source": [
    "X_train_transformed.head(3)"
   ]
  },
  {
   "cell_type": "markdown",
   "id": "c6ad8977",
   "metadata": {},
   "source": [
    "## Testing Predictors for the new df that has dummy variables"
   ]
  },
  {
   "cell_type": "code",
   "execution_count": 197,
   "id": "01ba2583",
   "metadata": {
    "scrolled": false
   },
   "outputs": [],
   "source": [
    "t = pd.get_dummies(data = tips, columns={'sex', 'smoker', 'day', 'time', 'size'})"
   ]
  },
  {
   "cell_type": "code",
   "execution_count": 25,
   "id": "fb041a3d",
   "metadata": {
    "scrolled": true
   },
   "outputs": [
    {
     "data": {
      "text/plain": [
       "Index(['total_bill', 'tip', 'ppp', 'smoker_No', 'smoker_Yes', 'day_Fri',\n",
       "       'day_Sat', 'day_Sun', 'day_Thur', 'time_Dinner', 'time_Lunch', 'size_1',\n",
       "       'size_2', 'size_3', 'size_4', 'size_5', 'size_6', 'sex_Female',\n",
       "       'sex_Male'],\n",
       "      dtype='object')"
      ]
     },
     "execution_count": 25,
     "metadata": {},
     "output_type": "execute_result"
    }
   ],
   "source": [
    "t.columns"
   ]
  },
  {
   "cell_type": "code",
   "execution_count": 27,
   "id": "7c5d256e",
   "metadata": {},
   "outputs": [
    {
     "name": "stdout",
     "output_type": "stream",
     "text": [
      "df shape: (244, 19)\n",
      "Train shape: (146, 19)\n",
      "Validate shape: (49, 19)\n",
      "Test shape: (49, 19)\n"
     ]
    }
   ],
   "source": [
    "train, validate, test = wrangle.split(t)"
   ]
  },
  {
   "cell_type": "code",
   "execution_count": 28,
   "id": "9b0e0173",
   "metadata": {},
   "outputs": [],
   "source": [
    "X_train, y_train = train[['ppp', 'smoker_No', 'smoker_Yes', 'day_Fri',\n",
    "       'day_Sat', 'day_Sun', 'day_Thur', 'time_Dinner', 'time_Lunch', 'size_1',\n",
    "       'size_2', 'size_3', 'size_4', 'size_5', 'size_6', 'sex_Female',\n",
    "       'sex_Male']], train.tip\n",
    "X_validate, y_validate = validate[['ppp', 'smoker_No', 'smoker_Yes', 'day_Fri',\n",
    "       'day_Sat', 'day_Sun', 'day_Thur', 'time_Dinner', 'time_Lunch', 'size_1',\n",
    "       'size_2', 'size_3', 'size_4', 'size_5', 'size_6', 'sex_Female',\n",
    "       'sex_Male']], validate.tip\n",
    "X_test, y_test = test[['ppp', 'smoker_No', 'smoker_Yes', 'day_Fri',\n",
    "       'day_Sat', 'day_Sun', 'day_Thur', 'time_Dinner', 'time_Lunch', 'size_1',\n",
    "       'size_2', 'size_3', 'size_4', 'size_5', 'size_6', 'sex_Female',\n",
    "       'sex_Male']], test.tip"
   ]
  },
  {
   "cell_type": "code",
   "execution_count": 29,
   "id": "e9a01222",
   "metadata": {},
   "outputs": [],
   "source": [
    "# Make the model\n",
    "kbest = SelectKBest(f_regression, k = 2)\n",
    "# fit model\n",
    "_ = kbest.fit(X_train, y_train)"
   ]
  },
  {
   "cell_type": "code",
   "execution_count": 30,
   "id": "5b741b59",
   "metadata": {},
   "outputs": [
    {
     "data": {
      "text/plain": [
       "array([3.38104833e-04, 6.23024953e-01, 6.23024953e-01, 2.98304767e-01,\n",
       "       1.65700505e-01, 1.56169975e-02, 7.17697281e-01, 4.73731314e-01,\n",
       "       4.73731314e-01, 2.19499864e-02, 2.44503881e-07, 1.26636780e-01,\n",
       "       1.59603700e-04, 1.14552634e-02, 6.27204157e-05, 3.07739009e-01,\n",
       "       3.07739009e-01])"
      ]
     },
     "execution_count": 30,
     "metadata": {},
     "output_type": "execute_result"
    }
   ],
   "source": [
    "# statistical f-value:\n",
    "kbest.scores_\n",
    "#p value: \n",
    "kbest.pvalues_"
   ]
  },
  {
   "cell_type": "code",
   "execution_count": 31,
   "id": "950e5535",
   "metadata": {},
   "outputs": [],
   "source": [
    "kbest_results = pd.DataFrame(\n",
    "    dict(p=kbest.pvalues_, f=kbest.scores_),\n",
    "                             index = X_train.columns)"
   ]
  },
  {
   "cell_type": "code",
   "execution_count": 32,
   "id": "a30982e0",
   "metadata": {},
   "outputs": [
    {
     "data": {
      "text/html": [
       "<div>\n",
       "<style scoped>\n",
       "    .dataframe tbody tr th:only-of-type {\n",
       "        vertical-align: middle;\n",
       "    }\n",
       "\n",
       "    .dataframe tbody tr th {\n",
       "        vertical-align: top;\n",
       "    }\n",
       "\n",
       "    .dataframe thead th {\n",
       "        text-align: right;\n",
       "    }\n",
       "</style>\n",
       "<table border=\"1\" class=\"dataframe\">\n",
       "  <thead>\n",
       "    <tr style=\"text-align: right;\">\n",
       "      <th></th>\n",
       "      <th>p</th>\n",
       "      <th>f</th>\n",
       "    </tr>\n",
       "  </thead>\n",
       "  <tbody>\n",
       "    <tr>\n",
       "      <th>ppp</th>\n",
       "      <td>3.381048e-04</td>\n",
       "      <td>13.485489</td>\n",
       "    </tr>\n",
       "    <tr>\n",
       "      <th>smoker_No</th>\n",
       "      <td>6.230250e-01</td>\n",
       "      <td>0.242683</td>\n",
       "    </tr>\n",
       "    <tr>\n",
       "      <th>smoker_Yes</th>\n",
       "      <td>6.230250e-01</td>\n",
       "      <td>0.242683</td>\n",
       "    </tr>\n",
       "    <tr>\n",
       "      <th>day_Fri</th>\n",
       "      <td>2.983048e-01</td>\n",
       "      <td>1.089619</td>\n",
       "    </tr>\n",
       "    <tr>\n",
       "      <th>day_Sat</th>\n",
       "      <td>1.657005e-01</td>\n",
       "      <td>1.941059</td>\n",
       "    </tr>\n",
       "    <tr>\n",
       "      <th>day_Sun</th>\n",
       "      <td>1.561700e-02</td>\n",
       "      <td>5.986864</td>\n",
       "    </tr>\n",
       "    <tr>\n",
       "      <th>day_Thur</th>\n",
       "      <td>7.176973e-01</td>\n",
       "      <td>0.131224</td>\n",
       "    </tr>\n",
       "    <tr>\n",
       "      <th>time_Dinner</th>\n",
       "      <td>4.737313e-01</td>\n",
       "      <td>0.515966</td>\n",
       "    </tr>\n",
       "    <tr>\n",
       "      <th>time_Lunch</th>\n",
       "      <td>4.737313e-01</td>\n",
       "      <td>0.515966</td>\n",
       "    </tr>\n",
       "    <tr>\n",
       "      <th>size_1</th>\n",
       "      <td>2.194999e-02</td>\n",
       "      <td>5.365493</td>\n",
       "    </tr>\n",
       "    <tr>\n",
       "      <th>size_2</th>\n",
       "      <td>2.445039e-07</td>\n",
       "      <td>29.379085</td>\n",
       "    </tr>\n",
       "    <tr>\n",
       "      <th>size_3</th>\n",
       "      <td>1.266368e-01</td>\n",
       "      <td>2.360498</td>\n",
       "    </tr>\n",
       "    <tr>\n",
       "      <th>size_4</th>\n",
       "      <td>1.596037e-04</td>\n",
       "      <td>15.039162</td>\n",
       "    </tr>\n",
       "    <tr>\n",
       "      <th>size_5</th>\n",
       "      <td>1.145526e-02</td>\n",
       "      <td>6.560498</td>\n",
       "    </tr>\n",
       "    <tr>\n",
       "      <th>size_6</th>\n",
       "      <td>6.272042e-05</td>\n",
       "      <td>17.005330</td>\n",
       "    </tr>\n",
       "    <tr>\n",
       "      <th>sex_Female</th>\n",
       "      <td>3.077390e-01</td>\n",
       "      <td>1.047764</td>\n",
       "    </tr>\n",
       "    <tr>\n",
       "      <th>sex_Male</th>\n",
       "      <td>3.077390e-01</td>\n",
       "      <td>1.047764</td>\n",
       "    </tr>\n",
       "  </tbody>\n",
       "</table>\n",
       "</div>"
      ],
      "text/plain": [
       "                        p          f\n",
       "ppp          3.381048e-04  13.485489\n",
       "smoker_No    6.230250e-01   0.242683\n",
       "smoker_Yes   6.230250e-01   0.242683\n",
       "day_Fri      2.983048e-01   1.089619\n",
       "day_Sat      1.657005e-01   1.941059\n",
       "day_Sun      1.561700e-02   5.986864\n",
       "day_Thur     7.176973e-01   0.131224\n",
       "time_Dinner  4.737313e-01   0.515966\n",
       "time_Lunch   4.737313e-01   0.515966\n",
       "size_1       2.194999e-02   5.365493\n",
       "size_2       2.445039e-07  29.379085\n",
       "size_3       1.266368e-01   2.360498\n",
       "size_4       1.596037e-04  15.039162\n",
       "size_5       1.145526e-02   6.560498\n",
       "size_6       6.272042e-05  17.005330\n",
       "sex_Female   3.077390e-01   1.047764\n",
       "sex_Male     3.077390e-01   1.047764"
      ]
     },
     "execution_count": 32,
     "metadata": {},
     "output_type": "execute_result"
    }
   ],
   "source": [
    "kbest_results"
   ]
  },
  {
   "cell_type": "code",
   "execution_count": 33,
   "id": "fc42d55e",
   "metadata": {},
   "outputs": [
    {
     "data": {
      "text/plain": [
       "array([[1., 0.],\n",
       "       [0., 0.],\n",
       "       [0., 0.],\n",
       "       [1., 0.],\n",
       "       [0., 0.]])"
      ]
     },
     "execution_count": 33,
     "metadata": {},
     "output_type": "execute_result"
    }
   ],
   "source": [
    "kbest.transform(X_train)[:5]"
   ]
  },
  {
   "cell_type": "code",
   "execution_count": 34,
   "id": "eb4e5499",
   "metadata": {},
   "outputs": [],
   "source": [
    "X_train_transformed = pd.DataFrame(\n",
    "    kbest.transform(X_train),\n",
    "    columns=X_train.columns[kbest.get_support()],\n",
    "    index=X_train.index\n",
    ")"
   ]
  },
  {
   "cell_type": "code",
   "execution_count": 35,
   "id": "716c6080",
   "metadata": {
    "scrolled": true
   },
   "outputs": [
    {
     "data": {
      "text/html": [
       "<div>\n",
       "<style scoped>\n",
       "    .dataframe tbody tr th:only-of-type {\n",
       "        vertical-align: middle;\n",
       "    }\n",
       "\n",
       "    .dataframe tbody tr th {\n",
       "        vertical-align: top;\n",
       "    }\n",
       "\n",
       "    .dataframe thead th {\n",
       "        text-align: right;\n",
       "    }\n",
       "</style>\n",
       "<table border=\"1\" class=\"dataframe\">\n",
       "  <thead>\n",
       "    <tr style=\"text-align: right;\">\n",
       "      <th></th>\n",
       "      <th>size_2</th>\n",
       "      <th>size_6</th>\n",
       "    </tr>\n",
       "  </thead>\n",
       "  <tbody>\n",
       "    <tr>\n",
       "      <th>20</th>\n",
       "      <td>1.0</td>\n",
       "      <td>0.0</td>\n",
       "    </tr>\n",
       "    <tr>\n",
       "      <th>67</th>\n",
       "      <td>0.0</td>\n",
       "      <td>0.0</td>\n",
       "    </tr>\n",
       "    <tr>\n",
       "      <th>63</th>\n",
       "      <td>0.0</td>\n",
       "      <td>0.0</td>\n",
       "    </tr>\n",
       "  </tbody>\n",
       "</table>\n",
       "</div>"
      ],
      "text/plain": [
       "    size_2  size_6\n",
       "20     1.0     0.0\n",
       "67     0.0     0.0\n",
       "63     0.0     0.0"
      ]
     },
     "execution_count": 35,
     "metadata": {},
     "output_type": "execute_result"
    }
   ],
   "source": [
    "X_train_transformed.head(3)"
   ]
  },
  {
   "cell_type": "markdown",
   "id": "243c5071",
   "metadata": {},
   "source": [
    "    d. Use recursive feature elimination to select the top 2 features for tip amount. What are they?"
   ]
  },
  {
   "cell_type": "code",
   "execution_count": 38,
   "id": "7884a0ff",
   "metadata": {},
   "outputs": [],
   "source": [
    "model = LinearRegression()"
   ]
  },
  {
   "cell_type": "code",
   "execution_count": 39,
   "id": "f7e3fcaa",
   "metadata": {},
   "outputs": [
    {
     "data": {
      "text/plain": [
       "RFE(estimator=LinearRegression(), n_features_to_select=2)"
      ]
     },
     "execution_count": 39,
     "metadata": {},
     "output_type": "execute_result"
    }
   ],
   "source": [
    "rfe = RFE(model, n_features_to_select=2)\n",
    "# fit the model\n",
    "rfe.fit(X_train, y_train)"
   ]
  },
  {
   "cell_type": "code",
   "execution_count": 40,
   "id": "6fe3a374",
   "metadata": {},
   "outputs": [
    {
     "data": {
      "text/plain": [
       "array([ 8, 15, 16,  7,  9,  6, 10, 11, 12,  5,  4,  3,  2,  1,  1, 14, 13])"
      ]
     },
     "execution_count": 40,
     "metadata": {},
     "output_type": "execute_result"
    }
   ],
   "source": [
    "rfe.ranking_"
   ]
  },
  {
   "cell_type": "code",
   "execution_count": 41,
   "id": "8904f7a6",
   "metadata": {},
   "outputs": [
    {
     "data": {
      "text/html": [
       "<div>\n",
       "<style scoped>\n",
       "    .dataframe tbody tr th:only-of-type {\n",
       "        vertical-align: middle;\n",
       "    }\n",
       "\n",
       "    .dataframe tbody tr th {\n",
       "        vertical-align: top;\n",
       "    }\n",
       "\n",
       "    .dataframe thead th {\n",
       "        text-align: right;\n",
       "    }\n",
       "</style>\n",
       "<table border=\"1\" class=\"dataframe\">\n",
       "  <thead>\n",
       "    <tr style=\"text-align: right;\">\n",
       "      <th></th>\n",
       "      <th>rfe_ranking</th>\n",
       "    </tr>\n",
       "  </thead>\n",
       "  <tbody>\n",
       "    <tr>\n",
       "      <th>ppp</th>\n",
       "      <td>8</td>\n",
       "    </tr>\n",
       "    <tr>\n",
       "      <th>smoker_No</th>\n",
       "      <td>15</td>\n",
       "    </tr>\n",
       "    <tr>\n",
       "      <th>smoker_Yes</th>\n",
       "      <td>16</td>\n",
       "    </tr>\n",
       "    <tr>\n",
       "      <th>day_Fri</th>\n",
       "      <td>7</td>\n",
       "    </tr>\n",
       "    <tr>\n",
       "      <th>day_Sat</th>\n",
       "      <td>9</td>\n",
       "    </tr>\n",
       "    <tr>\n",
       "      <th>day_Sun</th>\n",
       "      <td>6</td>\n",
       "    </tr>\n",
       "    <tr>\n",
       "      <th>day_Thur</th>\n",
       "      <td>10</td>\n",
       "    </tr>\n",
       "    <tr>\n",
       "      <th>time_Dinner</th>\n",
       "      <td>11</td>\n",
       "    </tr>\n",
       "    <tr>\n",
       "      <th>time_Lunch</th>\n",
       "      <td>12</td>\n",
       "    </tr>\n",
       "    <tr>\n",
       "      <th>size_1</th>\n",
       "      <td>5</td>\n",
       "    </tr>\n",
       "    <tr>\n",
       "      <th>size_2</th>\n",
       "      <td>4</td>\n",
       "    </tr>\n",
       "    <tr>\n",
       "      <th>size_3</th>\n",
       "      <td>3</td>\n",
       "    </tr>\n",
       "    <tr>\n",
       "      <th>size_4</th>\n",
       "      <td>2</td>\n",
       "    </tr>\n",
       "    <tr>\n",
       "      <th>size_5</th>\n",
       "      <td>1</td>\n",
       "    </tr>\n",
       "    <tr>\n",
       "      <th>size_6</th>\n",
       "      <td>1</td>\n",
       "    </tr>\n",
       "    <tr>\n",
       "      <th>sex_Female</th>\n",
       "      <td>14</td>\n",
       "    </tr>\n",
       "    <tr>\n",
       "      <th>sex_Male</th>\n",
       "      <td>13</td>\n",
       "    </tr>\n",
       "  </tbody>\n",
       "</table>\n",
       "</div>"
      ],
      "text/plain": [
       "             rfe_ranking\n",
       "ppp                    8\n",
       "smoker_No             15\n",
       "smoker_Yes            16\n",
       "day_Fri                7\n",
       "day_Sat                9\n",
       "day_Sun                6\n",
       "day_Thur              10\n",
       "time_Dinner           11\n",
       "time_Lunch            12\n",
       "size_1                 5\n",
       "size_2                 4\n",
       "size_3                 3\n",
       "size_4                 2\n",
       "size_5                 1\n",
       "size_6                 1\n",
       "sex_Female            14\n",
       "sex_Male              13"
      ]
     },
     "execution_count": 41,
     "metadata": {},
     "output_type": "execute_result"
    }
   ],
   "source": [
    "pd.DataFrame(\n",
    "{\n",
    "    'rfe_ranking': rfe.ranking_\n",
    "}, index = X_train.columns\n",
    ")"
   ]
  },
  {
   "cell_type": "code",
   "execution_count": 42,
   "id": "814bf6eb",
   "metadata": {},
   "outputs": [
    {
     "data": {
      "text/plain": [
       "array([False, False, False, False, False, False, False, False, False,\n",
       "       False, False, False, False,  True,  True, False, False])"
      ]
     },
     "execution_count": 42,
     "metadata": {},
     "output_type": "execute_result"
    }
   ],
   "source": [
    "rfe.get_support()"
   ]
  },
  {
   "cell_type": "code",
   "execution_count": 43,
   "id": "1d45666d",
   "metadata": {},
   "outputs": [],
   "source": [
    "X_train_transformed = pd.DataFrame(rfe.transform(X_train), index= X_train.index, columns=X_train.columns[rfe.support_])"
   ]
  },
  {
   "cell_type": "code",
   "execution_count": 44,
   "id": "67c1db1d",
   "metadata": {},
   "outputs": [
    {
     "data": {
      "text/html": [
       "<div>\n",
       "<style scoped>\n",
       "    .dataframe tbody tr th:only-of-type {\n",
       "        vertical-align: middle;\n",
       "    }\n",
       "\n",
       "    .dataframe tbody tr th {\n",
       "        vertical-align: top;\n",
       "    }\n",
       "\n",
       "    .dataframe thead th {\n",
       "        text-align: right;\n",
       "    }\n",
       "</style>\n",
       "<table border=\"1\" class=\"dataframe\">\n",
       "  <thead>\n",
       "    <tr style=\"text-align: right;\">\n",
       "      <th></th>\n",
       "      <th>size_5</th>\n",
       "      <th>size_6</th>\n",
       "    </tr>\n",
       "  </thead>\n",
       "  <tbody>\n",
       "    <tr>\n",
       "      <th>20</th>\n",
       "      <td>0.0</td>\n",
       "      <td>0.0</td>\n",
       "    </tr>\n",
       "    <tr>\n",
       "      <th>67</th>\n",
       "      <td>0.0</td>\n",
       "      <td>0.0</td>\n",
       "    </tr>\n",
       "    <tr>\n",
       "      <th>63</th>\n",
       "      <td>0.0</td>\n",
       "      <td>0.0</td>\n",
       "    </tr>\n",
       "  </tbody>\n",
       "</table>\n",
       "</div>"
      ],
      "text/plain": [
       "    size_5  size_6\n",
       "20     0.0     0.0\n",
       "67     0.0     0.0\n",
       "63     0.0     0.0"
      ]
     },
     "execution_count": 44,
     "metadata": {},
     "output_type": "execute_result"
    }
   ],
   "source": [
    "X_train_transformed.head(3)"
   ]
  },
  {
   "cell_type": "markdown",
   "id": "3425b60f",
   "metadata": {},
   "source": [
    "    e. Why do you think select k best and recursive feature elimination might give different answers for the top features? Does this change as you change the number of features you are selecting?"
   ]
  },
  {
   "cell_type": "code",
   "execution_count": null,
   "id": "c8f13f52",
   "metadata": {},
   "outputs": [],
   "source": []
  },
  {
   "cell_type": "markdown",
   "id": "7eb6302d",
   "metadata": {},
   "source": [
    "### 2. Write a function named select_kbest that takes in the predictors (X), the target (y), and the number of features to select (k) and returns the names of the top k selected features based on the SelectKBest class. Test your function with the tips dataset. You should see the same results as when you did the process manually."
   ]
  },
  {
   "cell_type": "code",
   "execution_count": 188,
   "id": "c2265af6",
   "metadata": {},
   "outputs": [],
   "source": [
    "\n",
    "\n",
    "def select_kbest(X_train, y_train, k):\n",
    "    kbest = SelectKBest(f_regression, k=k)\n",
    "    \n",
    "    kbest.fit(X_train, y_train)\n",
    "    \n",
    "    X_train_transformed = pd.DataFrame(kbest.transform(X_train),\n",
    "                                       columns=X_train.columns[kbest.get_support()],\n",
    "                                       index=X_train.index)\n",
    "    \n",
    "    return X_train.columns[kbest.get_support()],X_train_transformed.head(3)"
   ]
  },
  {
   "cell_type": "code",
   "execution_count": 189,
   "id": "1f7233dc",
   "metadata": {},
   "outputs": [
    {
     "data": {
      "text/plain": [
       "(Index(['Agriculture', 'Examination', 'Education', 'Catholic'], dtype='object'),\n",
       "            Agriculture  Examination  Education  Catholic\n",
       " La Vallee         15.2         31.0       20.0      2.15\n",
       " Sierre            84.6          3.0        3.0     99.46\n",
       " Moudon            55.1         14.0        3.0      4.52)"
      ]
     },
     "execution_count": 189,
     "metadata": {},
     "output_type": "execute_result"
    }
   ],
   "source": [
    "select_kbest(X_train, y_train, 4)"
   ]
  },
  {
   "cell_type": "code",
   "execution_count": null,
   "id": "a43a8306",
   "metadata": {},
   "outputs": [],
   "source": [
    "kbest = SelectKBest(f_regression, k=2)\n",
    "# fit model\n",
    "_ = kbest.fit(X_train, y_train)\n",
    "\n",
    "# statistical f-value:\n",
    "kbest.scores_\n",
    "#p value: \n",
    "kbest.pvalues_\n",
    "\n",
    "kbest_results = pd.DataFrame(\n",
    "    dict(p=kbest.pvalues_, f=kbest.scores_),\n",
    "                             index = X_train.columns)\n",
    "\n",
    "kbest_results\n",
    "\n",
    "X_train_transformed = pd.DataFrame(\n",
    "    kbest.transform(X_train),\n",
    "    columns=X_train.columns[kbest.get_support()],\n",
    "    index=X_train.index\n",
    ")\n",
    "\n",
    "X_train_transformed.head(3)"
   ]
  },
  {
   "cell_type": "markdown",
   "id": "a80f63c1",
   "metadata": {},
   "source": [
    "### 3. Write a function named rfe that takes in the predictors, the target, and the number of features to select. It should return the top k features based on the RFE class. Test your function with the tips dataset. You should see the same results as when you did the process manually."
   ]
  },
  {
   "cell_type": "code",
   "execution_count": 236,
   "id": "8fdf490d",
   "metadata": {},
   "outputs": [],
   "source": [
    "'''RFE: takes in the predictors, the target, and the number of features to select and returns \n",
    "the top features based on the RFE class.'''\n",
    "\n",
    "def rfe(X_train, y_train, k):\n",
    "    model = LinearRegression()\n",
    "    # Make the model\n",
    "    rfe = RFE(model, n_features_to_select=k)\n",
    "    # Fit the model\n",
    "    rfe.fit(X_train, y_train)\n",
    "    \n",
    "    X_train_transformed = pd.DataFrame(rfe.transform(X_train), \n",
    "                                       index= X_train.index, \n",
    "                                       columns=X_train.columns[rfe.support_])\n",
    "    \n",
    "    return X_train.columns[rfe.support_], X_train_transformed.head(3)\n",
    "    "
   ]
  },
  {
   "cell_type": "code",
   "execution_count": 237,
   "id": "d71c2239",
   "metadata": {},
   "outputs": [
    {
     "data": {
      "text/plain": [
       "(Index(['total_bill', 'ppp', 'smoker_No'], dtype='object'),\n",
       "    total_bill       ppp  smoker_No\n",
       " 0       16.99  8.495000        1.0\n",
       " 1       10.34  3.446667        1.0\n",
       " 2       21.01  7.003333        1.0)"
      ]
     },
     "execution_count": 237,
     "metadata": {},
     "output_type": "execute_result"
    }
   ],
   "source": [
    "rfe(X_train, y_train, 3)"
   ]
  },
  {
   "cell_type": "code",
   "execution_count": 232,
   "id": "96f0dcdb",
   "metadata": {},
   "outputs": [],
   "source": [
    "model = LinearRegression()\n",
    "\n",
    "rfe = RFE(model, n_features_to_select=2)\n",
    "# fit the model\n",
    "rfe.fit(X_train, y_train)\n",
    "\n",
    "pd.DataFrame(\n",
    "{\n",
    "    'rfe_ranking': rfe.ranking_\n",
    "}, index = X_train.columns\n",
    ")\n",
    "\n",
    "rfe.get_support()\n",
    "\n",
    "X_train_transformed = pd.DataFrame(rfe.transform(X_train), index= X_train.index, columns=X_train.columns[rfe.support_])"
   ]
  },
  {
   "cell_type": "markdown",
   "id": "d3ae39d7",
   "metadata": {},
   "source": [
    "### 4. Load the swiss dataset and use all the other features to predict Fertility. Find the top 3 features using both select k best and recursive feature elimination (use the functions you just built to help you out)."
   ]
  },
  {
   "cell_type": "code",
   "execution_count": 59,
   "id": "a7a7383c",
   "metadata": {},
   "outputs": [],
   "source": [
    "#pydataset.load_dataset('swiss')"
   ]
  },
  {
   "cell_type": "code",
   "execution_count": 47,
   "id": "48bfe099",
   "metadata": {},
   "outputs": [],
   "source": [
    "#<iframe src=\"https://r-data.pmagunia.com/iframe/r-dataset-package-datasets-swiss.html\" frameBorder=\"0\" width=\"100%\" height=\"307px\" />\n",
    "import requests"
   ]
  },
  {
   "cell_type": "code",
   "execution_count": 123,
   "id": "a41bde17",
   "metadata": {},
   "outputs": [],
   "source": [
    "#url = \"https://github.com/cs109/2014_data/blob/master/countries.csv\"\n",
    "#url = \"https://r-data.pmagunia.com/iframe/r-dataset-package-datasets-swiss.html\"\n",
    "#url = \"https://rstudio-pubs-static.s3.amazonaws.com/534472_4d89ba1506b24e22acf23d0482bd6a53.html\"\n",
    "#c = pd.read_csv('Sample-Data-Swiss-Fertility.csv')"
   ]
  },
  {
   "cell_type": "code",
   "execution_count": 125,
   "id": "6d8df82e",
   "metadata": {},
   "outputs": [],
   "source": [
    "#c.head(3)"
   ]
  },
  {
   "cell_type": "code",
   "execution_count": 126,
   "id": "7a9b8258",
   "metadata": {},
   "outputs": [],
   "source": [
    "#replace('Quantity[' : '')"
   ]
  },
  {
   "cell_type": "code",
   "execution_count": 127,
   "id": "50e71193",
   "metadata": {},
   "outputs": [],
   "source": [
    "#type(c.Fertility)"
   ]
  },
  {
   "cell_type": "code",
   "execution_count": 128,
   "id": "0dd10d34",
   "metadata": {
    "scrolled": false
   },
   "outputs": [],
   "source": [
    "#c.Fertility = c.Fertility.str.replace('\"Percent\"','%')"
   ]
  },
  {
   "cell_type": "code",
   "execution_count": 129,
   "id": "600e02cb",
   "metadata": {
    "scrolled": true
   },
   "outputs": [],
   "source": [
    "#c.head(3)"
   ]
  },
  {
   "cell_type": "code",
   "execution_count": 117,
   "id": "2db7df7e",
   "metadata": {},
   "outputs": [],
   "source": [
    "#c.replace(to_replace('\"Percent]\"','%'))"
   ]
  },
  {
   "cell_type": "code",
   "execution_count": 118,
   "id": "7bc6dd0d",
   "metadata": {
    "scrolled": true
   },
   "outputs": [],
   "source": [
    "#c.Fertility.str.replace('Quantity[','n')"
   ]
  },
  {
   "cell_type": "code",
   "execution_count": 119,
   "id": "c9aea1b7",
   "metadata": {},
   "outputs": [],
   "source": [
    "#c.values.remove('Quantity[')"
   ]
  },
  {
   "cell_type": "code",
   "execution_count": 121,
   "id": "5e074361",
   "metadata": {},
   "outputs": [],
   "source": [
    "from pydataset import data"
   ]
  },
  {
   "cell_type": "code",
   "execution_count": 238,
   "id": "042d1329",
   "metadata": {
    "scrolled": true
   },
   "outputs": [
    {
     "data": {
      "text/html": [
       "<div>\n",
       "<style scoped>\n",
       "    .dataframe tbody tr th:only-of-type {\n",
       "        vertical-align: middle;\n",
       "    }\n",
       "\n",
       "    .dataframe tbody tr th {\n",
       "        vertical-align: top;\n",
       "    }\n",
       "\n",
       "    .dataframe thead th {\n",
       "        text-align: right;\n",
       "    }\n",
       "</style>\n",
       "<table border=\"1\" class=\"dataframe\">\n",
       "  <thead>\n",
       "    <tr style=\"text-align: right;\">\n",
       "      <th></th>\n",
       "      <th>Fertility</th>\n",
       "      <th>Agriculture</th>\n",
       "      <th>Examination</th>\n",
       "      <th>Education</th>\n",
       "      <th>Catholic</th>\n",
       "      <th>Infant.Mortality</th>\n",
       "    </tr>\n",
       "  </thead>\n",
       "  <tbody>\n",
       "    <tr>\n",
       "      <th>Courtelary</th>\n",
       "      <td>80.2</td>\n",
       "      <td>17.0</td>\n",
       "      <td>15</td>\n",
       "      <td>12</td>\n",
       "      <td>9.96</td>\n",
       "      <td>22.2</td>\n",
       "    </tr>\n",
       "    <tr>\n",
       "      <th>Delemont</th>\n",
       "      <td>83.1</td>\n",
       "      <td>45.1</td>\n",
       "      <td>6</td>\n",
       "      <td>9</td>\n",
       "      <td>84.84</td>\n",
       "      <td>22.2</td>\n",
       "    </tr>\n",
       "    <tr>\n",
       "      <th>Franches-Mnt</th>\n",
       "      <td>92.5</td>\n",
       "      <td>39.7</td>\n",
       "      <td>5</td>\n",
       "      <td>5</td>\n",
       "      <td>93.40</td>\n",
       "      <td>20.2</td>\n",
       "    </tr>\n",
       "    <tr>\n",
       "      <th>Moutier</th>\n",
       "      <td>85.8</td>\n",
       "      <td>36.5</td>\n",
       "      <td>12</td>\n",
       "      <td>7</td>\n",
       "      <td>33.77</td>\n",
       "      <td>20.3</td>\n",
       "    </tr>\n",
       "    <tr>\n",
       "      <th>Neuveville</th>\n",
       "      <td>76.9</td>\n",
       "      <td>43.5</td>\n",
       "      <td>17</td>\n",
       "      <td>15</td>\n",
       "      <td>5.16</td>\n",
       "      <td>20.6</td>\n",
       "    </tr>\n",
       "  </tbody>\n",
       "</table>\n",
       "</div>"
      ],
      "text/plain": [
       "              Fertility  Agriculture  Examination  Education  Catholic  \\\n",
       "Courtelary         80.2         17.0           15         12      9.96   \n",
       "Delemont           83.1         45.1            6          9     84.84   \n",
       "Franches-Mnt       92.5         39.7            5          5     93.40   \n",
       "Moutier            85.8         36.5           12          7     33.77   \n",
       "Neuveville         76.9         43.5           17         15      5.16   \n",
       "\n",
       "              Infant.Mortality  \n",
       "Courtelary                22.2  \n",
       "Delemont                  22.2  \n",
       "Franches-Mnt              20.2  \n",
       "Moutier                   20.3  \n",
       "Neuveville                20.6  "
      ]
     },
     "execution_count": 238,
     "metadata": {},
     "output_type": "execute_result"
    }
   ],
   "source": [
    "swiss = data('swiss')\n",
    "swiss.head()"
   ]
  },
  {
   "cell_type": "code",
   "execution_count": 239,
   "id": "d560e8a8",
   "metadata": {
    "scrolled": true
   },
   "outputs": [
    {
     "name": "stdout",
     "output_type": "stream",
     "text": [
      "df shape: (47, 6)\n",
      "Train shape: (27, 6)\n",
      "Validate shape: (10, 6)\n",
      "Test shape: (10, 6)\n"
     ]
    }
   ],
   "source": [
    "train, validate, test = wrangle.split(swiss)"
   ]
  },
  {
   "cell_type": "code",
   "execution_count": 240,
   "id": "3fba45bf",
   "metadata": {},
   "outputs": [
    {
     "name": "stdout",
     "output_type": "stream",
     "text": [
      "<class 'pandas.core.frame.DataFrame'>\n",
      "Index: 27 entries, La Vallee to Martigwy\n",
      "Data columns (total 6 columns):\n",
      " #   Column            Non-Null Count  Dtype  \n",
      "---  ------            --------------  -----  \n",
      " 0   Fertility         27 non-null     float64\n",
      " 1   Agriculture       27 non-null     float64\n",
      " 2   Examination       27 non-null     int64  \n",
      " 3   Education         27 non-null     int64  \n",
      " 4   Catholic          27 non-null     float64\n",
      " 5   Infant.Mortality  27 non-null     float64\n",
      "dtypes: float64(4), int64(2)\n",
      "memory usage: 1.5+ KB\n"
     ]
    }
   ],
   "source": [
    "train.info()"
   ]
  },
  {
   "cell_type": "code",
   "execution_count": 241,
   "id": "0612db46",
   "metadata": {},
   "outputs": [],
   "source": [
    "X_train, y_train = train[['Agriculture','Examination','Education','Catholic','Infant.Mortality']], train.Fertility\n",
    "X_validate, y_validate = validate[['Agriculture','Examination','Education','Catholic','Infant.Mortality']], validate.Fertility\n",
    "X_test, y_test = test[['Agriculture','Examination','Education','Catholic','Infant.Mortality']], test.Fertility"
   ]
  },
  {
   "cell_type": "code",
   "execution_count": 243,
   "id": "3e3ef347",
   "metadata": {
    "scrolled": true
   },
   "outputs": [
    {
     "data": {
      "text/plain": [
       "(Index(['Examination', 'Education', 'Infant.Mortality'], dtype='object'),\n",
       "            Examination  Education  Infant.Mortality\n",
       " La Vallee         31.0       20.0              10.8\n",
       " Sierre             3.0        3.0              16.3\n",
       " Moudon            14.0        3.0              22.4)"
      ]
     },
     "execution_count": 243,
     "metadata": {},
     "output_type": "execute_result"
    }
   ],
   "source": [
    "rfe(X_train, y_train, 3)"
   ]
  },
  {
   "cell_type": "code",
   "execution_count": 244,
   "id": "71866434",
   "metadata": {},
   "outputs": [
    {
     "data": {
      "text/plain": [
       "(Index(['Agriculture', 'Examination', 'Education'], dtype='object'),\n",
       "            Agriculture  Examination  Education\n",
       " La Vallee         15.2         31.0       20.0\n",
       " Sierre            84.6          3.0        3.0\n",
       " Moudon            55.1         14.0        3.0)"
      ]
     },
     "execution_count": 244,
     "metadata": {},
     "output_type": "execute_result"
    }
   ],
   "source": [
    "select_kbest(X_train, y_train, 3)"
   ]
  },
  {
   "cell_type": "code",
   "execution_count": 142,
   "id": "5c91fda2",
   "metadata": {},
   "outputs": [],
   "source": [
    "kbest = SelectKBest(f_regression, k=3)\n",
    "# fit model\n",
    "_ = kbest.fit(X_train, y_train)"
   ]
  },
  {
   "cell_type": "code",
   "execution_count": 143,
   "id": "322e29d3",
   "metadata": {},
   "outputs": [
    {
     "data": {
      "text/plain": [
       "array([8.80334021e-03, 2.45509799e-05, 1.31475704e-05, 1.83966651e-02,\n",
       "       8.97779012e-02])"
      ]
     },
     "execution_count": 143,
     "metadata": {},
     "output_type": "execute_result"
    }
   ],
   "source": [
    "# statistical f-value:\n",
    "kbest.scores_\n",
    "#p value: \n",
    "kbest.pvalues_"
   ]
  },
  {
   "cell_type": "code",
   "execution_count": 144,
   "id": "45bf54e6",
   "metadata": {},
   "outputs": [
    {
     "data": {
      "text/plain": [
       "array([ 8.07501955, 26.64154471, 29.20451537,  6.36201886,  3.11523751])"
      ]
     },
     "execution_count": 144,
     "metadata": {},
     "output_type": "execute_result"
    }
   ],
   "source": [
    "kbest.scores_"
   ]
  },
  {
   "cell_type": "code",
   "execution_count": 145,
   "id": "027c20a5",
   "metadata": {},
   "outputs": [],
   "source": [
    "kbest_results = pd.DataFrame(\n",
    "    dict(p=kbest.pvalues_, f=kbest.scores_),\n",
    "                             index = X_train.columns)"
   ]
  },
  {
   "cell_type": "code",
   "execution_count": 146,
   "id": "4d156520",
   "metadata": {},
   "outputs": [
    {
     "data": {
      "text/html": [
       "<div>\n",
       "<style scoped>\n",
       "    .dataframe tbody tr th:only-of-type {\n",
       "        vertical-align: middle;\n",
       "    }\n",
       "\n",
       "    .dataframe tbody tr th {\n",
       "        vertical-align: top;\n",
       "    }\n",
       "\n",
       "    .dataframe thead th {\n",
       "        text-align: right;\n",
       "    }\n",
       "</style>\n",
       "<table border=\"1\" class=\"dataframe\">\n",
       "  <thead>\n",
       "    <tr style=\"text-align: right;\">\n",
       "      <th></th>\n",
       "      <th>p</th>\n",
       "      <th>f</th>\n",
       "    </tr>\n",
       "  </thead>\n",
       "  <tbody>\n",
       "    <tr>\n",
       "      <th>Agriculture</th>\n",
       "      <td>0.008803</td>\n",
       "      <td>8.075020</td>\n",
       "    </tr>\n",
       "    <tr>\n",
       "      <th>Examination</th>\n",
       "      <td>0.000025</td>\n",
       "      <td>26.641545</td>\n",
       "    </tr>\n",
       "    <tr>\n",
       "      <th>Education</th>\n",
       "      <td>0.000013</td>\n",
       "      <td>29.204515</td>\n",
       "    </tr>\n",
       "    <tr>\n",
       "      <th>Catholic</th>\n",
       "      <td>0.018397</td>\n",
       "      <td>6.362019</td>\n",
       "    </tr>\n",
       "    <tr>\n",
       "      <th>Infant.Mortality</th>\n",
       "      <td>0.089778</td>\n",
       "      <td>3.115238</td>\n",
       "    </tr>\n",
       "  </tbody>\n",
       "</table>\n",
       "</div>"
      ],
      "text/plain": [
       "                         p          f\n",
       "Agriculture       0.008803   8.075020\n",
       "Examination       0.000025  26.641545\n",
       "Education         0.000013  29.204515\n",
       "Catholic          0.018397   6.362019\n",
       "Infant.Mortality  0.089778   3.115238"
      ]
     },
     "execution_count": 146,
     "metadata": {},
     "output_type": "execute_result"
    }
   ],
   "source": [
    "kbest_results"
   ]
  },
  {
   "cell_type": "code",
   "execution_count": 147,
   "id": "0ce12a75",
   "metadata": {},
   "outputs": [],
   "source": [
    "X_train_transformed = pd.DataFrame(\n",
    "    kbest.transform(X_train),\n",
    "    columns=X_train.columns[kbest.get_support()],\n",
    "    index=X_train.index\n",
    ")\n"
   ]
  },
  {
   "cell_type": "code",
   "execution_count": 148,
   "id": "1ba10283",
   "metadata": {},
   "outputs": [
    {
     "data": {
      "text/html": [
       "<div>\n",
       "<style scoped>\n",
       "    .dataframe tbody tr th:only-of-type {\n",
       "        vertical-align: middle;\n",
       "    }\n",
       "\n",
       "    .dataframe tbody tr th {\n",
       "        vertical-align: top;\n",
       "    }\n",
       "\n",
       "    .dataframe thead th {\n",
       "        text-align: right;\n",
       "    }\n",
       "</style>\n",
       "<table border=\"1\" class=\"dataframe\">\n",
       "  <thead>\n",
       "    <tr style=\"text-align: right;\">\n",
       "      <th></th>\n",
       "      <th>Agriculture</th>\n",
       "      <th>Examination</th>\n",
       "      <th>Education</th>\n",
       "    </tr>\n",
       "  </thead>\n",
       "  <tbody>\n",
       "    <tr>\n",
       "      <th>La Vallee</th>\n",
       "      <td>15.2</td>\n",
       "      <td>31.0</td>\n",
       "      <td>20.0</td>\n",
       "    </tr>\n",
       "    <tr>\n",
       "      <th>Sierre</th>\n",
       "      <td>84.6</td>\n",
       "      <td>3.0</td>\n",
       "      <td>3.0</td>\n",
       "    </tr>\n",
       "    <tr>\n",
       "      <th>Moudon</th>\n",
       "      <td>55.1</td>\n",
       "      <td>14.0</td>\n",
       "      <td>3.0</td>\n",
       "    </tr>\n",
       "  </tbody>\n",
       "</table>\n",
       "</div>"
      ],
      "text/plain": [
       "           Agriculture  Examination  Education\n",
       "La Vallee         15.2         31.0       20.0\n",
       "Sierre            84.6          3.0        3.0\n",
       "Moudon            55.1         14.0        3.0"
      ]
     },
     "execution_count": 148,
     "metadata": {},
     "output_type": "execute_result"
    }
   ],
   "source": [
    "X_train_transformed.head(3)"
   ]
  }
 ],
 "metadata": {
  "kernelspec": {
   "display_name": "Python 3 (ipykernel)",
   "language": "python",
   "name": "python3"
  },
  "language_info": {
   "codemirror_mode": {
    "name": "ipython",
    "version": 3
   },
   "file_extension": ".py",
   "mimetype": "text/x-python",
   "name": "python",
   "nbconvert_exporter": "python",
   "pygments_lexer": "ipython3",
   "version": "3.9.12"
  }
 },
 "nbformat": 4,
 "nbformat_minor": 5
}
