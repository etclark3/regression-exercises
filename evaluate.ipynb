{
 "cells": [
  {
   "cell_type": "code",
   "execution_count": 53,
   "id": "151b3e9b",
   "metadata": {},
   "outputs": [],
   "source": [
    "# Standard imports\n",
    "import numpy as np\n",
    "import pandas as pd\n",
    "\n",
    "#\n",
    "import random\n",
    "\n",
    "# To interact with the operating system\n",
    "import os\n",
    "\n",
    "# For statistical modeling\n",
    "import scipy.stats as stats\n",
    "\n",
    "# To acquire MYSQL Data\n",
    "import acquire\n",
    "from env import username, password, host\n",
    "import wrangle\n",
    "\n",
    "# For data visualization\n",
    "import seaborn as sns\n",
    "import matplotlib.pyplot as plt\n",
    "\n",
    "import warnings\n",
    "warnings.filterwarnings('ignore')\n",
    "\n",
    "import evaluate\n",
    "\n",
    "# For running modeling\n",
    "from sklearn.model_selection import train_test_split\n",
    "import sklearn.metrics as mtc\n",
    "from sklearn.metrics import mean_squared_error, r2_score\n",
    "from sklearn.metrics import classification_report, confusion_matrix, accuracy_score, recall_score, precision_score, f1_score\n",
    "from sklearn.tree import DecisionTreeClassifier, plot_tree\n",
    "from sklearn.ensemble import RandomForestClassifier\n",
    "from sklearn.neighbors import KNeighborsClassifier\n",
    "from sklearn.linear_model import LogisticRegression\n",
    "from sklearn.preprocessing import MinMaxScaler, StandardScaler, RobustScaler, QuantileTransformer"
   ]
  },
  {
   "cell_type": "markdown",
   "id": "ce70068d",
   "metadata": {},
   "source": [
    "### By the end of this exercise you will also create an evaluate.py, so the overall deliverables for this exercise are the python script and jupyter notebook both with the name evaluate within your regression-exercises repo.\n",
    "\n",
    "#### 1. Load your zillow dataset."
   ]
  },
  {
   "cell_type": "code",
   "execution_count": 2,
   "id": "0866afbf",
   "metadata": {},
   "outputs": [],
   "source": [
    "train = pd.read_csv('sfh_zillow_train.csv', index_col=0)"
   ]
  },
  {
   "cell_type": "code",
   "execution_count": 3,
   "id": "0853adeb",
   "metadata": {},
   "outputs": [
    {
     "data": {
      "text/html": [
       "<div>\n",
       "<style scoped>\n",
       "    .dataframe tbody tr th:only-of-type {\n",
       "        vertical-align: middle;\n",
       "    }\n",
       "\n",
       "    .dataframe tbody tr th {\n",
       "        vertical-align: top;\n",
       "    }\n",
       "\n",
       "    .dataframe thead th {\n",
       "        text-align: right;\n",
       "    }\n",
       "</style>\n",
       "<table border=\"1\" class=\"dataframe\">\n",
       "  <thead>\n",
       "    <tr style=\"text-align: right;\">\n",
       "      <th></th>\n",
       "      <th>bedrooms</th>\n",
       "      <th>bathrooms</th>\n",
       "      <th>f_sqft</th>\n",
       "      <th>tax_value</th>\n",
       "      <th>yearbuilt</th>\n",
       "      <th>taxamount</th>\n",
       "      <th>fips</th>\n",
       "    </tr>\n",
       "  </thead>\n",
       "  <tbody>\n",
       "    <tr>\n",
       "      <th>1297002</th>\n",
       "      <td>4.0</td>\n",
       "      <td>3.0</td>\n",
       "      <td>2441.0</td>\n",
       "      <td>174459.0</td>\n",
       "      <td>2006.0</td>\n",
       "      <td>3091.32</td>\n",
       "      <td>6037.0</td>\n",
       "    </tr>\n",
       "    <tr>\n",
       "      <th>2422146</th>\n",
       "      <td>4.0</td>\n",
       "      <td>2.0</td>\n",
       "      <td>1248.0</td>\n",
       "      <td>236075.0</td>\n",
       "      <td>1924.0</td>\n",
       "      <td>2889.13</td>\n",
       "      <td>6037.0</td>\n",
       "    </tr>\n",
       "    <tr>\n",
       "      <th>2656567</th>\n",
       "      <td>3.0</td>\n",
       "      <td>2.0</td>\n",
       "      <td>1650.0</td>\n",
       "      <td>124327.0</td>\n",
       "      <td>1977.0</td>\n",
       "      <td>1545.91</td>\n",
       "      <td>6037.0</td>\n",
       "    </tr>\n",
       "  </tbody>\n",
       "</table>\n",
       "</div>"
      ],
      "text/plain": [
       "         bedrooms  bathrooms  f_sqft  tax_value  yearbuilt  taxamount    fips\n",
       "1297002       4.0        3.0  2441.0   174459.0     2006.0    3091.32  6037.0\n",
       "2422146       4.0        2.0  1248.0   236075.0     1924.0    2889.13  6037.0\n",
       "2656567       3.0        2.0  1650.0   124327.0     1977.0    1545.91  6037.0"
      ]
     },
     "execution_count": 3,
     "metadata": {},
     "output_type": "execute_result"
    }
   ],
   "source": [
    "train.head(3)"
   ]
  },
  {
   "cell_type": "markdown",
   "id": "bcf4a51f",
   "metadata": {},
   "source": [
    "baseline = df.y.mean()\n",
    "\n",
    "df['baseline'] = baseline\n",
    "\n",
    "lm = LinearRegression()\n",
    "\n",
    "lm.fit(df[['x']], df.y)\n",
    "\n",
    "df['yhat'] = lm.predict(df[['x']])\n",
    "\n",
    "df['baseline_residual'] = df.y - df.baseline\n",
    "\n",
    "df['residual'] = df.y - df.yhat\n",
    "\n",
    "df['baseline_residual_sq'] = df.baseline_residual**2\n",
    "\n",
    "df['residual_sq'] = df.residual**2\n",
    "\n",
    "SSE_baseline = df.baseline_residual_sq.sum()\n",
    "\n",
    "SSE = df.residual_sq.sum()\n",
    "\n",
    "MSE_baseline = SSE_baseline/len(df)\n",
    "\n",
    "MSE = SSE/len(df)\n",
    "\n",
    "RMSE_baseline = MSE_baseline**0.5\n",
    "\n",
    "RMSE = MSE**0.5\n",
    "\n",
    "MSE2_baseline = mean_squared_error(df.y, df.baseline)\n",
    "\n",
    "MSE2 = mean_squared_error(df.y, df.yhat)\n",
    "\n",
    "SSE2_baseline = MSE2_baseline * len(df)\n",
    "\n",
    "SSE2 = MSE2 * len(df)\n",
    "\n",
    "RMSE2_baseline = MSE2_baseline**0.5\n",
    "\n",
    "RMSE2 = MSE2**0.5"
   ]
  },
  {
   "cell_type": "markdown",
   "id": "ddcd1e71",
   "metadata": {},
   "source": [
    "#### 2. Fit a linear regression model (ordinary least squares) and compute yhat, predictions of taxvaluedollarcnt using only calculatedfinishedsqft.\n",
    "\n",
    "Here is some sample code to get you started:\n",
    "\n",
    "from sklearn.linear_model import LinearRegression\n",
    "\n",
    "assuming X and y are already defined\n",
    "model = LinearRegression().fit(X, y)\n",
    "predictions = model.predict(X)\n",
    "\n",
    "**Modify and add to the code above as necessary for it to work with the zillow dataset.**"
   ]
  },
  {
   "cell_type": "code",
   "execution_count": 6,
   "id": "86917b8d",
   "metadata": {},
   "outputs": [],
   "source": [
    "from sklearn.linear_model import LinearRegression\n",
    "\n",
    "X = train['f_sqft']\n",
    "y = train['tax_value']\n",
    "\n",
    "model = LinearRegression().fit(train[['f_sqft']], y)\n",
    "predictions = model.predict(train[['f_sqft']])"
   ]
  },
  {
   "cell_type": "code",
   "execution_count": 7,
   "id": "a9e37beb",
   "metadata": {},
   "outputs": [
    {
     "data": {
      "text/plain": [
       "array([445374.75467606, 267225.19903235, 327255.47679326, ...,\n",
       "       310082.63614027, 401920.00137152, 286488.64637354])"
      ]
     },
     "execution_count": 7,
     "metadata": {},
     "output_type": "execute_result"
    }
   ],
   "source": [
    "predictions"
   ]
  },
  {
   "cell_type": "code",
   "execution_count": 8,
   "id": "80078255",
   "metadata": {
    "scrolled": true
   },
   "outputs": [
    {
     "data": {
      "text/plain": [
       "1297002    2441.0\n",
       "2422146    1248.0\n",
       "2656567    1650.0\n",
       "2177611    1601.0\n",
       "1108712    1100.0\n",
       "            ...  \n",
       "2138425    1438.0\n",
       "188836     1755.0\n",
       "1787453    1535.0\n",
       "2038665    2150.0\n",
       "1947274    1377.0\n",
       "Name: f_sqft, Length: 1114251, dtype: float64"
      ]
     },
     "execution_count": 8,
     "metadata": {},
     "output_type": "execute_result"
    }
   ],
   "source": [
    "X"
   ]
  },
  {
   "cell_type": "markdown",
   "id": "8ffa064d",
   "metadata": {},
   "source": [
    "#### 3. Plot the residuals for the linear regression model that you made."
   ]
  },
  {
   "cell_type": "code",
   "execution_count": 11,
   "id": "d490394d",
   "metadata": {},
   "outputs": [
    {
     "data": {
      "text/plain": [
       "327823.3393104426"
      ]
     },
     "execution_count": 11,
     "metadata": {},
     "output_type": "execute_result"
    }
   ],
   "source": [
    "train.tax_value.mean()"
   ]
  },
  {
   "cell_type": "code",
   "execution_count": 12,
   "id": "559d1c03",
   "metadata": {},
   "outputs": [],
   "source": [
    "train['yhat'] = predictions\n",
    "train['baseline'] = train.tax_value.mean()"
   ]
  },
  {
   "cell_type": "code",
   "execution_count": 13,
   "id": "5a610241",
   "metadata": {
    "scrolled": true
   },
   "outputs": [
    {
     "data": {
      "text/html": [
       "<div>\n",
       "<style scoped>\n",
       "    .dataframe tbody tr th:only-of-type {\n",
       "        vertical-align: middle;\n",
       "    }\n",
       "\n",
       "    .dataframe tbody tr th {\n",
       "        vertical-align: top;\n",
       "    }\n",
       "\n",
       "    .dataframe thead th {\n",
       "        text-align: right;\n",
       "    }\n",
       "</style>\n",
       "<table border=\"1\" class=\"dataframe\">\n",
       "  <thead>\n",
       "    <tr style=\"text-align: right;\">\n",
       "      <th></th>\n",
       "      <th>bedrooms</th>\n",
       "      <th>bathrooms</th>\n",
       "      <th>f_sqft</th>\n",
       "      <th>tax_value</th>\n",
       "      <th>yearbuilt</th>\n",
       "      <th>taxamount</th>\n",
       "      <th>fips</th>\n",
       "      <th>yhat</th>\n",
       "      <th>baseline</th>\n",
       "    </tr>\n",
       "  </thead>\n",
       "  <tbody>\n",
       "    <tr>\n",
       "      <th>1297002</th>\n",
       "      <td>4.0</td>\n",
       "      <td>3.0</td>\n",
       "      <td>2441.0</td>\n",
       "      <td>174459.0</td>\n",
       "      <td>2006.0</td>\n",
       "      <td>3091.32</td>\n",
       "      <td>6037.0</td>\n",
       "      <td>445374.754676</td>\n",
       "      <td>327823.33931</td>\n",
       "    </tr>\n",
       "    <tr>\n",
       "      <th>2422146</th>\n",
       "      <td>4.0</td>\n",
       "      <td>2.0</td>\n",
       "      <td>1248.0</td>\n",
       "      <td>236075.0</td>\n",
       "      <td>1924.0</td>\n",
       "      <td>2889.13</td>\n",
       "      <td>6037.0</td>\n",
       "      <td>267225.199032</td>\n",
       "      <td>327823.33931</td>\n",
       "    </tr>\n",
       "    <tr>\n",
       "      <th>2656567</th>\n",
       "      <td>3.0</td>\n",
       "      <td>2.0</td>\n",
       "      <td>1650.0</td>\n",
       "      <td>124327.0</td>\n",
       "      <td>1977.0</td>\n",
       "      <td>1545.91</td>\n",
       "      <td>6037.0</td>\n",
       "      <td>327255.476793</td>\n",
       "      <td>327823.33931</td>\n",
       "    </tr>\n",
       "  </tbody>\n",
       "</table>\n",
       "</div>"
      ],
      "text/plain": [
       "         bedrooms  bathrooms  f_sqft  tax_value  yearbuilt  taxamount    fips  \\\n",
       "1297002       4.0        3.0  2441.0   174459.0     2006.0    3091.32  6037.0   \n",
       "2422146       4.0        2.0  1248.0   236075.0     1924.0    2889.13  6037.0   \n",
       "2656567       3.0        2.0  1650.0   124327.0     1977.0    1545.91  6037.0   \n",
       "\n",
       "                  yhat      baseline  \n",
       "1297002  445374.754676  327823.33931  \n",
       "2422146  267225.199032  327823.33931  \n",
       "2656567  327255.476793  327823.33931  "
      ]
     },
     "execution_count": 13,
     "metadata": {},
     "output_type": "execute_result"
    }
   ],
   "source": [
    "train.head(3)"
   ]
  },
  {
   "cell_type": "code",
   "execution_count": 14,
   "id": "b44a9878",
   "metadata": {},
   "outputs": [],
   "source": [
    "train['baseline_residual'] = y - train.baseline"
   ]
  },
  {
   "cell_type": "code",
   "execution_count": 15,
   "id": "5291f0d2",
   "metadata": {
    "scrolled": true
   },
   "outputs": [
    {
     "data": {
      "text/html": [
       "<div>\n",
       "<style scoped>\n",
       "    .dataframe tbody tr th:only-of-type {\n",
       "        vertical-align: middle;\n",
       "    }\n",
       "\n",
       "    .dataframe tbody tr th {\n",
       "        vertical-align: top;\n",
       "    }\n",
       "\n",
       "    .dataframe thead th {\n",
       "        text-align: right;\n",
       "    }\n",
       "</style>\n",
       "<table border=\"1\" class=\"dataframe\">\n",
       "  <thead>\n",
       "    <tr style=\"text-align: right;\">\n",
       "      <th></th>\n",
       "      <th>bedrooms</th>\n",
       "      <th>bathrooms</th>\n",
       "      <th>f_sqft</th>\n",
       "      <th>tax_value</th>\n",
       "      <th>yearbuilt</th>\n",
       "      <th>taxamount</th>\n",
       "      <th>fips</th>\n",
       "      <th>yhat</th>\n",
       "      <th>baseline</th>\n",
       "      <th>baseline_residual</th>\n",
       "    </tr>\n",
       "  </thead>\n",
       "  <tbody>\n",
       "    <tr>\n",
       "      <th>1297002</th>\n",
       "      <td>4.0</td>\n",
       "      <td>3.0</td>\n",
       "      <td>2441.0</td>\n",
       "      <td>174459.0</td>\n",
       "      <td>2006.0</td>\n",
       "      <td>3091.32</td>\n",
       "      <td>6037.0</td>\n",
       "      <td>445374.754676</td>\n",
       "      <td>327823.33931</td>\n",
       "      <td>-153364.33931</td>\n",
       "    </tr>\n",
       "    <tr>\n",
       "      <th>2422146</th>\n",
       "      <td>4.0</td>\n",
       "      <td>2.0</td>\n",
       "      <td>1248.0</td>\n",
       "      <td>236075.0</td>\n",
       "      <td>1924.0</td>\n",
       "      <td>2889.13</td>\n",
       "      <td>6037.0</td>\n",
       "      <td>267225.199032</td>\n",
       "      <td>327823.33931</td>\n",
       "      <td>-91748.33931</td>\n",
       "    </tr>\n",
       "    <tr>\n",
       "      <th>2656567</th>\n",
       "      <td>3.0</td>\n",
       "      <td>2.0</td>\n",
       "      <td>1650.0</td>\n",
       "      <td>124327.0</td>\n",
       "      <td>1977.0</td>\n",
       "      <td>1545.91</td>\n",
       "      <td>6037.0</td>\n",
       "      <td>327255.476793</td>\n",
       "      <td>327823.33931</td>\n",
       "      <td>-203496.33931</td>\n",
       "    </tr>\n",
       "  </tbody>\n",
       "</table>\n",
       "</div>"
      ],
      "text/plain": [
       "         bedrooms  bathrooms  f_sqft  tax_value  yearbuilt  taxamount    fips  \\\n",
       "1297002       4.0        3.0  2441.0   174459.0     2006.0    3091.32  6037.0   \n",
       "2422146       4.0        2.0  1248.0   236075.0     1924.0    2889.13  6037.0   \n",
       "2656567       3.0        2.0  1650.0   124327.0     1977.0    1545.91  6037.0   \n",
       "\n",
       "                  yhat      baseline  baseline_residual  \n",
       "1297002  445374.754676  327823.33931      -153364.33931  \n",
       "2422146  267225.199032  327823.33931       -91748.33931  \n",
       "2656567  327255.476793  327823.33931      -203496.33931  "
      ]
     },
     "execution_count": 15,
     "metadata": {},
     "output_type": "execute_result"
    }
   ],
   "source": [
    "train.head(3)"
   ]
  },
  {
   "cell_type": "code",
   "execution_count": 16,
   "id": "88f8921f",
   "metadata": {},
   "outputs": [],
   "source": [
    "train['residual'] = y - train.yhat\n",
    "\n",
    "train['baseline_residual_sq'] = train.baseline_residual**2\n",
    "\n",
    "train['residual_sq'] = train.residual**2"
   ]
  },
  {
   "cell_type": "code",
   "execution_count": 17,
   "id": "deb0a584",
   "metadata": {
    "scrolled": false
   },
   "outputs": [
    {
     "data": {
      "text/html": [
       "<div>\n",
       "<style scoped>\n",
       "    .dataframe tbody tr th:only-of-type {\n",
       "        vertical-align: middle;\n",
       "    }\n",
       "\n",
       "    .dataframe tbody tr th {\n",
       "        vertical-align: top;\n",
       "    }\n",
       "\n",
       "    .dataframe thead th {\n",
       "        text-align: right;\n",
       "    }\n",
       "</style>\n",
       "<table border=\"1\" class=\"dataframe\">\n",
       "  <thead>\n",
       "    <tr style=\"text-align: right;\">\n",
       "      <th></th>\n",
       "      <th>bedrooms</th>\n",
       "      <th>bathrooms</th>\n",
       "      <th>f_sqft</th>\n",
       "      <th>tax_value</th>\n",
       "      <th>yearbuilt</th>\n",
       "      <th>taxamount</th>\n",
       "      <th>fips</th>\n",
       "      <th>yhat</th>\n",
       "      <th>baseline</th>\n",
       "      <th>baseline_residual</th>\n",
       "      <th>residual</th>\n",
       "      <th>baseline_residual_sq</th>\n",
       "      <th>residual_sq</th>\n",
       "    </tr>\n",
       "  </thead>\n",
       "  <tbody>\n",
       "    <tr>\n",
       "      <th>1297002</th>\n",
       "      <td>4.0</td>\n",
       "      <td>3.0</td>\n",
       "      <td>2441.0</td>\n",
       "      <td>174459.0</td>\n",
       "      <td>2006.0</td>\n",
       "      <td>3091.32</td>\n",
       "      <td>6037.0</td>\n",
       "      <td>445374.754676</td>\n",
       "      <td>327823.33931</td>\n",
       "      <td>-153364.33931</td>\n",
       "      <td>-270915.754676</td>\n",
       "      <td>2.352062e+10</td>\n",
       "      <td>7.339535e+10</td>\n",
       "    </tr>\n",
       "    <tr>\n",
       "      <th>2422146</th>\n",
       "      <td>4.0</td>\n",
       "      <td>2.0</td>\n",
       "      <td>1248.0</td>\n",
       "      <td>236075.0</td>\n",
       "      <td>1924.0</td>\n",
       "      <td>2889.13</td>\n",
       "      <td>6037.0</td>\n",
       "      <td>267225.199032</td>\n",
       "      <td>327823.33931</td>\n",
       "      <td>-91748.33931</td>\n",
       "      <td>-31150.199032</td>\n",
       "      <td>8.417758e+09</td>\n",
       "      <td>9.703349e+08</td>\n",
       "    </tr>\n",
       "    <tr>\n",
       "      <th>2656567</th>\n",
       "      <td>3.0</td>\n",
       "      <td>2.0</td>\n",
       "      <td>1650.0</td>\n",
       "      <td>124327.0</td>\n",
       "      <td>1977.0</td>\n",
       "      <td>1545.91</td>\n",
       "      <td>6037.0</td>\n",
       "      <td>327255.476793</td>\n",
       "      <td>327823.33931</td>\n",
       "      <td>-203496.33931</td>\n",
       "      <td>-202928.476793</td>\n",
       "      <td>4.141076e+10</td>\n",
       "      <td>4.117997e+10</td>\n",
       "    </tr>\n",
       "  </tbody>\n",
       "</table>\n",
       "</div>"
      ],
      "text/plain": [
       "         bedrooms  bathrooms  f_sqft  tax_value  yearbuilt  taxamount    fips  \\\n",
       "1297002       4.0        3.0  2441.0   174459.0     2006.0    3091.32  6037.0   \n",
       "2422146       4.0        2.0  1248.0   236075.0     1924.0    2889.13  6037.0   \n",
       "2656567       3.0        2.0  1650.0   124327.0     1977.0    1545.91  6037.0   \n",
       "\n",
       "                  yhat      baseline  baseline_residual       residual  \\\n",
       "1297002  445374.754676  327823.33931      -153364.33931 -270915.754676   \n",
       "2422146  267225.199032  327823.33931       -91748.33931  -31150.199032   \n",
       "2656567  327255.476793  327823.33931      -203496.33931 -202928.476793   \n",
       "\n",
       "         baseline_residual_sq   residual_sq  \n",
       "1297002          2.352062e+10  7.339535e+10  \n",
       "2422146          8.417758e+09  9.703349e+08  \n",
       "2656567          4.141076e+10  4.117997e+10  "
      ]
     },
     "execution_count": 17,
     "metadata": {},
     "output_type": "execute_result"
    }
   ],
   "source": [
    "train.head(3)"
   ]
  },
  {
   "cell_type": "code",
   "execution_count": 18,
   "id": "a118b69f",
   "metadata": {},
   "outputs": [
    {
     "data": {
      "text/html": [
       "<div>\n",
       "<style scoped>\n",
       "    .dataframe tbody tr th:only-of-type {\n",
       "        vertical-align: middle;\n",
       "    }\n",
       "\n",
       "    .dataframe tbody tr th {\n",
       "        vertical-align: top;\n",
       "    }\n",
       "\n",
       "    .dataframe thead th {\n",
       "        text-align: right;\n",
       "    }\n",
       "</style>\n",
       "<table border=\"1\" class=\"dataframe\">\n",
       "  <thead>\n",
       "    <tr style=\"text-align: right;\">\n",
       "      <th></th>\n",
       "      <th>count</th>\n",
       "      <th>mean</th>\n",
       "      <th>std</th>\n",
       "      <th>min</th>\n",
       "      <th>25%</th>\n",
       "      <th>50%</th>\n",
       "      <th>75%</th>\n",
       "      <th>max</th>\n",
       "    </tr>\n",
       "  </thead>\n",
       "  <tbody>\n",
       "    <tr>\n",
       "      <th>bedrooms</th>\n",
       "      <td>1114251.0</td>\n",
       "      <td>3.214398e+00</td>\n",
       "      <td>7.817534e-01</td>\n",
       "      <td>2.000000</td>\n",
       "      <td>3.000000e+00</td>\n",
       "      <td>3.000000e+00</td>\n",
       "      <td>4.000000e+00</td>\n",
       "      <td>5.000000e+00</td>\n",
       "    </tr>\n",
       "    <tr>\n",
       "      <th>bathrooms</th>\n",
       "      <td>1114251.0</td>\n",
       "      <td>2.053116e+00</td>\n",
       "      <td>7.076468e-01</td>\n",
       "      <td>1.000000</td>\n",
       "      <td>2.000000e+00</td>\n",
       "      <td>2.000000e+00</td>\n",
       "      <td>2.500000e+00</td>\n",
       "      <td>4.000000e+00</td>\n",
       "    </tr>\n",
       "    <tr>\n",
       "      <th>f_sqft</th>\n",
       "      <td>1114251.0</td>\n",
       "      <td>1.653803e+03</td>\n",
       "      <td>5.648836e+02</td>\n",
       "      <td>1.000000</td>\n",
       "      <td>1.231000e+03</td>\n",
       "      <td>1.548000e+03</td>\n",
       "      <td>1.988000e+03</td>\n",
       "      <td>3.408000e+03</td>\n",
       "    </tr>\n",
       "    <tr>\n",
       "      <th>tax_value</th>\n",
       "      <td>1114251.0</td>\n",
       "      <td>3.278233e+05</td>\n",
       "      <td>1.991043e+05</td>\n",
       "      <td>1.000000</td>\n",
       "      <td>1.734140e+05</td>\n",
       "      <td>2.964970e+05</td>\n",
       "      <td>4.525170e+05</td>\n",
       "      <td>9.509400e+05</td>\n",
       "    </tr>\n",
       "    <tr>\n",
       "      <th>yearbuilt</th>\n",
       "      <td>1114251.0</td>\n",
       "      <td>1.959444e+03</td>\n",
       "      <td>2.055092e+01</td>\n",
       "      <td>1801.000000</td>\n",
       "      <td>1.949000e+03</td>\n",
       "      <td>1.957000e+03</td>\n",
       "      <td>1.972000e+03</td>\n",
       "      <td>2.016000e+03</td>\n",
       "    </tr>\n",
       "    <tr>\n",
       "      <th>taxamount</th>\n",
       "      <td>1114251.0</td>\n",
       "      <td>4.068834e+03</td>\n",
       "      <td>2.241650e+03</td>\n",
       "      <td>20.240000</td>\n",
       "      <td>2.367270e+03</td>\n",
       "      <td>3.750630e+03</td>\n",
       "      <td>5.487355e+03</td>\n",
       "      <td>1.036889e+04</td>\n",
       "    </tr>\n",
       "    <tr>\n",
       "      <th>fips</th>\n",
       "      <td>1114251.0</td>\n",
       "      <td>6.048335e+03</td>\n",
       "      <td>2.052844e+01</td>\n",
       "      <td>6037.000000</td>\n",
       "      <td>6.037000e+03</td>\n",
       "      <td>6.037000e+03</td>\n",
       "      <td>6.059000e+03</td>\n",
       "      <td>6.111000e+03</td>\n",
       "    </tr>\n",
       "    <tr>\n",
       "      <th>yhat</th>\n",
       "      <td>1114251.0</td>\n",
       "      <td>3.278233e+05</td>\n",
       "      <td>8.435353e+04</td>\n",
       "      <td>81011.874734</td>\n",
       "      <td>2.646866e+05</td>\n",
       "      <td>3.120239e+05</td>\n",
       "      <td>3.777287e+05</td>\n",
       "      <td>5.897759e+05</td>\n",
       "    </tr>\n",
       "    <tr>\n",
       "      <th>baseline</th>\n",
       "      <td>1114251.0</td>\n",
       "      <td>3.278233e+05</td>\n",
       "      <td>1.235866e-06</td>\n",
       "      <td>327823.339310</td>\n",
       "      <td>3.278233e+05</td>\n",
       "      <td>3.278233e+05</td>\n",
       "      <td>3.278233e+05</td>\n",
       "      <td>3.278233e+05</td>\n",
       "    </tr>\n",
       "    <tr>\n",
       "      <th>baseline_residual</th>\n",
       "      <td>1114251.0</td>\n",
       "      <td>7.121912e-10</td>\n",
       "      <td>1.991043e+05</td>\n",
       "      <td>-327822.339310</td>\n",
       "      <td>-1.544093e+05</td>\n",
       "      <td>-3.132634e+04</td>\n",
       "      <td>1.246937e+05</td>\n",
       "      <td>6.231167e+05</td>\n",
       "    </tr>\n",
       "    <tr>\n",
       "      <th>residual</th>\n",
       "      <td>1114251.0</td>\n",
       "      <td>-1.128050e-11</td>\n",
       "      <td>1.803524e+05</td>\n",
       "      <td>-566907.621278</td>\n",
       "      <td>-1.348077e+05</td>\n",
       "      <td>-1.933286e+04</td>\n",
       "      <td>1.175667e+05</td>\n",
       "      <td>7.833819e+05</td>\n",
       "    </tr>\n",
       "    <tr>\n",
       "      <th>baseline_residual_sq</th>\n",
       "      <td>1114251.0</td>\n",
       "      <td>3.964248e+10</td>\n",
       "      <td>5.319094e+10</td>\n",
       "      <td>0.115132</td>\n",
       "      <td>4.836599e+09</td>\n",
       "      <td>2.025337e+10</td>\n",
       "      <td>5.674131e+10</td>\n",
       "      <td>3.882744e+11</td>\n",
       "    </tr>\n",
       "    <tr>\n",
       "      <th>residual_sq</th>\n",
       "      <td>1114251.0</td>\n",
       "      <td>3.252697e+10</td>\n",
       "      <td>4.440712e+10</td>\n",
       "      <td>0.000192</td>\n",
       "      <td>3.445100e+09</td>\n",
       "      <td>1.601600e+10</td>\n",
       "      <td>4.492699e+10</td>\n",
       "      <td>6.136872e+11</td>\n",
       "    </tr>\n",
       "  </tbody>\n",
       "</table>\n",
       "</div>"
      ],
      "text/plain": [
       "                          count          mean           std            min  \\\n",
       "bedrooms              1114251.0  3.214398e+00  7.817534e-01       2.000000   \n",
       "bathrooms             1114251.0  2.053116e+00  7.076468e-01       1.000000   \n",
       "f_sqft                1114251.0  1.653803e+03  5.648836e+02       1.000000   \n",
       "tax_value             1114251.0  3.278233e+05  1.991043e+05       1.000000   \n",
       "yearbuilt             1114251.0  1.959444e+03  2.055092e+01    1801.000000   \n",
       "taxamount             1114251.0  4.068834e+03  2.241650e+03      20.240000   \n",
       "fips                  1114251.0  6.048335e+03  2.052844e+01    6037.000000   \n",
       "yhat                  1114251.0  3.278233e+05  8.435353e+04   81011.874734   \n",
       "baseline              1114251.0  3.278233e+05  1.235866e-06  327823.339310   \n",
       "baseline_residual     1114251.0  7.121912e-10  1.991043e+05 -327822.339310   \n",
       "residual              1114251.0 -1.128050e-11  1.803524e+05 -566907.621278   \n",
       "baseline_residual_sq  1114251.0  3.964248e+10  5.319094e+10       0.115132   \n",
       "residual_sq           1114251.0  3.252697e+10  4.440712e+10       0.000192   \n",
       "\n",
       "                               25%           50%           75%           max  \n",
       "bedrooms              3.000000e+00  3.000000e+00  4.000000e+00  5.000000e+00  \n",
       "bathrooms             2.000000e+00  2.000000e+00  2.500000e+00  4.000000e+00  \n",
       "f_sqft                1.231000e+03  1.548000e+03  1.988000e+03  3.408000e+03  \n",
       "tax_value             1.734140e+05  2.964970e+05  4.525170e+05  9.509400e+05  \n",
       "yearbuilt             1.949000e+03  1.957000e+03  1.972000e+03  2.016000e+03  \n",
       "taxamount             2.367270e+03  3.750630e+03  5.487355e+03  1.036889e+04  \n",
       "fips                  6.037000e+03  6.037000e+03  6.059000e+03  6.111000e+03  \n",
       "yhat                  2.646866e+05  3.120239e+05  3.777287e+05  5.897759e+05  \n",
       "baseline              3.278233e+05  3.278233e+05  3.278233e+05  3.278233e+05  \n",
       "baseline_residual    -1.544093e+05 -3.132634e+04  1.246937e+05  6.231167e+05  \n",
       "residual             -1.348077e+05 -1.933286e+04  1.175667e+05  7.833819e+05  \n",
       "baseline_residual_sq  4.836599e+09  2.025337e+10  5.674131e+10  3.882744e+11  \n",
       "residual_sq           3.445100e+09  1.601600e+10  4.492699e+10  6.136872e+11  "
      ]
     },
     "execution_count": 18,
     "metadata": {},
     "output_type": "execute_result"
    }
   ],
   "source": [
    "train.describe().T"
   ]
  },
  {
   "cell_type": "code",
   "execution_count": 20,
   "id": "a557c962",
   "metadata": {
    "scrolled": true
   },
   "outputs": [
    {
     "data": {
      "image/png": "[encoded data removed]",
      "text/plain": [
       "<Figure size 360x360 with 1 Axes>"
      ]
     },
     "metadata": {
      "needs_background": "light"
     },
     "output_type": "display_data"
    }
   ],
   "source": [
    "sns.relplot(train.tax_value, train.residual)\n",
    "plt.ticklabel_format(style='plain', useOffset=False)\n",
    "plt.show()"
   ]
  },
  {
   "cell_type": "code",
   "execution_count": 21,
   "id": "ca178584",
   "metadata": {
    "scrolled": true
   },
   "outputs": [
    {
     "data": {
      "image/png": "[encoded data removed]",
      "text/plain": [
       "<Figure size 360x360 with 1 Axes>"
      ]
     },
     "metadata": {
      "needs_background": "light"
     },
     "output_type": "display_data"
    }
   ],
   "source": [
    "sns.relplot(train.tax_value, train.baseline_residual)\n",
    "plt.ticklabel_format(style='plain', useOffset=False)\n",
    "plt.show()"
   ]
  },
  {
   "cell_type": "markdown",
   "id": "2235387d",
   "metadata": {},
   "source": [
    "#### 4. Calculate the sum of squared errors, explained sum of squares, total sum of squares, mean squared error, and root mean squared error for your model."
   ]
  },
  {
   "cell_type": "code",
   "execution_count": 25,
   "id": "2407e8aa",
   "metadata": {},
   "outputs": [],
   "source": [
    "SSE = train.residual_sq.sum()\n",
    "MSE = SSE/len(train)\n",
    "RMSE = MSE**0.5\n",
    "MSE2 = mean_squared_error(train.tax_value, train.yhat)\n",
    "SSE2 = MSE2 * len(train)\n",
    "RMSE2 = MSE2**0.5"
   ]
  },
  {
   "cell_type": "code",
   "execution_count": 30,
   "id": "2b343687",
   "metadata": {},
   "outputs": [
    {
     "name": "stdout",
     "output_type": "stream",
     "text": [
      "SSE: 3.6243210250115016e+16\n",
      "MSE: 32526971257.02828\n",
      "RMSE: 180352.35306762226\n",
      "MSE2: 32526971257.02828\n",
      "SSE2: 3.6243210250115016e+16\n",
      "RMSE2: 180352.35306762226\n"
     ]
    }
   ],
   "source": [
    "print(f'SSE: {SSE}')\n",
    "print(f'MSE: {MSE}')\n",
    "print(f'RMSE: {RMSE}')\n",
    "print(f'MSE2: {MSE2}')\n",
    "print(f'SSE2: {SSE2}')\n",
    "print(f'RMSE2: {RMSE2}')"
   ]
  },
  {
   "cell_type": "code",
   "execution_count": 44,
   "id": "7e7b602f",
   "metadata": {},
   "outputs": [
    {
     "name": "stdout",
     "output_type": "stream",
     "text": [
      "ESS: 7928466475211477.0\n",
      "TSS: 4.41716767253265e+16\n"
     ]
    }
   ],
   "source": [
    "ESS = sum((train.yhat - train.tax_value.mean())**2)\n",
    "TSS = ESS + SSE\n",
    "print(f'ESS: {ESS}')\n",
    "print(f'TSS: {TSS}')"
   ]
  },
  {
   "cell_type": "code",
   "execution_count": 46,
   "id": "3d3f35bb",
   "metadata": {},
   "outputs": [
    {
     "data": {
      "text/plain": [
       "0.17949208775825282"
      ]
     },
     "execution_count": 46,
     "metadata": {},
     "output_type": "execute_result"
    }
   ],
   "source": [
    "R2 = ESS/TSS\n",
    "R2"
   ]
  },
  {
   "cell_type": "markdown",
   "id": "66118f18",
   "metadata": {},
   "source": [
    "#### 5. Calculate the sum of squared errors, mean squared error, and root mean squared error for the baseline model (i.e. a model that always predicts the average taxvaluedollarcnt amount)."
   ]
  },
  {
   "cell_type": "code",
   "execution_count": 26,
   "id": "54455e23",
   "metadata": {},
   "outputs": [],
   "source": [
    "SSE_baseline = train.baseline_residual_sq.sum()\n",
    "MSE_baseline = SSE_baseline/len(train)\n",
    "RMSE_baseline = MSE_baseline**0.5\n",
    "MSE2_baseline = mean_squared_error(train.tax_value, train.baseline)\n",
    "SSE2_baseline = MSE2_baseline * len(train)\n",
    "RMSE2_baseline = MSE2_baseline**0.5"
   ]
  },
  {
   "cell_type": "code",
   "execution_count": 29,
   "id": "ca8fb24a",
   "metadata": {
    "scrolled": true
   },
   "outputs": [
    {
     "name": "stdout",
     "output_type": "stream",
     "text": [
      "Baseline SSE: 4.4171676725328184e+16\n",
      "Baseline MSE: 39642483359.07097\n",
      "Baseline RMSE: 199104.2022637166\n",
      "Baseline MSE2: 39642483359.07097\n",
      "Baseline SSE2: 4.4171676725328184e+16\n",
      "Baseline RMSE2: 199104.2022637166\n"
     ]
    }
   ],
   "source": [
    "print(f'Baseline SSE: {SSE_baseline}')\n",
    "print(f'Baseline MSE: {MSE_baseline}')\n",
    "print(f'Baseline RMSE: {RMSE_baseline}')\n",
    "print(f'Baseline MSE2: {MSE2_baseline}')\n",
    "print(f'Baseline SSE2: {SSE2_baseline}')\n",
    "print(f'Baseline RMSE2: {RMSE2_baseline}')"
   ]
  },
  {
   "cell_type": "code",
   "execution_count": 45,
   "id": "44b165b3",
   "metadata": {},
   "outputs": [
    {
     "name": "stdout",
     "output_type": "stream",
     "text": [
      "Baseline ESS: 0.0\n",
      "Baseline TSS: 4.4171676725328184e+16\n",
      "Baseline R2: 0.0\n"
     ]
    }
   ],
   "source": [
    "ESS_baseline = sum((train.baseline - train.tax_value.mean())**2)\n",
    "TSS_baseline = ESS_baseline + SSE_baseline\n",
    "R2_baseline = ESS_baseline/TSS_baseline\n",
    "print(f'Baseline ESS: {ESS_baseline}')\n",
    "print(f'Baseline TSS: {TSS_baseline}')\n",
    "print(f'Baseline R2: {R2_baseline}')"
   ]
  },
  {
   "cell_type": "markdown",
   "id": "0ddff0fb",
   "metadata": {},
   "source": [
    "#### 6. Write python code that compares the sum of squared errors for your model against the sum of squared errors for the baseline model and outputs whether or not your model performs better than the baseline model."
   ]
  },
  {
   "cell_type": "code",
   "execution_count": null,
   "id": "3490e3d7",
   "metadata": {},
   "outputs": [],
   "source": []
  },
  {
   "cell_type": "markdown",
   "id": "341f604f",
   "metadata": {},
   "source": [
    "#### 7. What is the amount of variance explained in your model?"
   ]
  },
  {
   "cell_type": "code",
   "execution_count": 24,
   "id": "bf98e258",
   "metadata": {},
   "outputs": [
    {
     "data": {
      "text/plain": [
       "0.1794920877582843"
      ]
     },
     "execution_count": 24,
     "metadata": {},
     "output_type": "execute_result"
    }
   ],
   "source": [
    "r2_score(train.tax_value, train.yhat)"
   ]
  },
  {
   "cell_type": "code",
   "execution_count": 31,
   "id": "c2d21452",
   "metadata": {},
   "outputs": [
    {
     "data": {
      "text/plain": [
       "0.0"
      ]
     },
     "execution_count": 31,
     "metadata": {},
     "output_type": "execute_result"
    }
   ],
   "source": [
    "r2_score(train.tax_value, train.baseline)"
   ]
  },
  {
   "cell_type": "markdown",
   "id": "6862b8bd",
   "metadata": {},
   "source": [
    "#### 8. Is your model better than the baseline model?"
   ]
  },
  {
   "cell_type": "markdown",
   "id": "f0d4489b",
   "metadata": {},
   "source": [
    "The model is better than the baseline"
   ]
  },
  {
   "cell_type": "markdown",
   "id": "8dd970ad",
   "metadata": {},
   "source": [
    "#### 9. Create a file named evaluate.py that contains the following functions:\n",
    "\n",
    "- plot_residuals(y, yhat): creates a residual plot\n",
    "- regression_errors(y, yhat): returns the following values:\n",
    "    - sum of squared errors (SSE)\n",
    "    - explained sum of squares (ESS)\n",
    "    - total sum of squares (TSS)\n",
    "    - mean squared error (MSE)\n",
    "    - root mean squared error (RMSE)\n",
    "- baseline_mean_errors(y): computes the SSE, MSE, and RMSE for the baseline model\n",
    "- better_than_baseline(y, yhat): returns true if your model performs better than the baseline, otherwise false"
   ]
  },
  {
   "cell_type": "code",
   "execution_count": null,
   "id": "ad7de812",
   "metadata": {},
   "outputs": [],
   "source": []
  },
  {
   "cell_type": "code",
   "execution_count": null,
   "id": "5106002b",
   "metadata": {},
   "outputs": [],
   "source": []
  },
  {
   "cell_type": "markdown",
   "id": "a8ecd95e",
   "metadata": {},
   "source": [
    "## Bonus Exercises\n",
    "#### 1. Load the tips dataset from either pydataset or seaborn. Fit a linear regression model (ordinary least squares) and compute yhat, predictions of tip using total_bill.\n",
    "\n",
    "#### 2. Load the mpg dataset and fit a model that predicts highway mileage based on engine displacement. Take a look at all the regression evaluation metrics, and determine whether this model is better than the baseline model. Use the functions from your evaluate.py to help accomplish this."
   ]
  },
  {
   "cell_type": "code",
   "execution_count": null,
   "id": "d2a4e134",
   "metadata": {},
   "outputs": [],
   "source": []
  },
  {
   "cell_type": "markdown",
   "id": "712793e3",
   "metadata": {},
   "source": [
    "---"
   ]
  },
  {
   "cell_type": "code",
   "execution_count": 55,
   "id": "138e53a6",
   "metadata": {},
   "outputs": [
    {
     "data": {
      "text/plain": [
       "6037.0    745857\n",
       "6059.0    281371\n",
       "6111.0     87023\n",
       "Name: fips, dtype: int64"
      ]
     },
     "execution_count": 55,
     "metadata": {},
     "output_type": "execute_result"
    }
   ],
   "source": [
    "train.fips.value_counts()"
   ]
  },
  {
   "cell_type": "markdown",
   "id": "b10b0f0e",
   "metadata": {},
   "source": [
    "Counties<br>\n",
    "06037\tLos Angeles<br>\n",
    "06059\tOrange<br>\n",
    "06111\tVentura"
   ]
  },
  {
   "cell_type": "code",
   "execution_count": null,
   "id": "83b01365",
   "metadata": {},
   "outputs": [],
   "source": []
  }
 ],
 "metadata": {
  "kernelspec": {
   "display_name": "Python 3 (ipykernel)",
   "language": "python",
   "name": "python3"
  },
  "language_info": {
   "codemirror_mode": {
    "name": "ipython",
    "version": 3
   },
   "file_extension": ".py",
   "mimetype": "text/x-python",
   "name": "python",
   "nbconvert_exporter": "python",
   "pygments_lexer": "ipython3",
   "version": "3.9.12"
  }
 },
 "nbformat": 4,
 "nbformat_minor": 5
}
